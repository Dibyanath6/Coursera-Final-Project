{
 "cells": [
  {
   "cell_type": "code",
   "execution_count": 103,
   "metadata": {},
   "outputs": [],
   "source": [
    "import pandas as pd\n",
    "import numpy as numpy\n",
    "import matplotlib.pyplot as plt\n",
    "import plotly.express as px\n",
    "import plotly.graph_objects as go\n",
    "from plotly.subplots import make_subplots\n",
    "import seaborn as sns\n"
   ]
  },
  {
   "cell_type": "code",
   "execution_count": 2,
   "metadata": {},
   "outputs": [],
   "source": [
    "EI=pd.read_csv('emp_info.csv')\n",
    "EP=pd.read_csv('emp_performance.csv')\n",
    "ES=pd.read_csv('emp_salary.csv')"
   ]
  },
  {
   "cell_type": "code",
   "execution_count": 3,
   "metadata": {},
   "outputs": [
    {
     "data": {
      "text/plain": [
       "employee_id       0\n",
       "business_areas    0\n",
       "salary_bands      0\n",
       "countries         0\n",
       "gender            0\n",
       "age               0\n",
       "seniority         0\n",
       "status            0\n",
       "dtype: int64"
      ]
     },
     "execution_count": 3,
     "metadata": {},
     "output_type": "execute_result"
    }
   ],
   "source": [
    "EI.isnull().sum()"
   ]
  },
  {
   "cell_type": "code",
   "execution_count": 4,
   "metadata": {},
   "outputs": [
    {
     "data": {
      "text/plain": [
       "employee_id    0\n",
       "performance    0\n",
       "dtype: int64"
      ]
     },
     "execution_count": 4,
     "metadata": {},
     "output_type": "execute_result"
    }
   ],
   "source": [
    "EP.isnull().sum()"
   ]
  },
  {
   "cell_type": "code",
   "execution_count": 5,
   "metadata": {},
   "outputs": [
    {
     "data": {
      "text/plain": [
       "employee_id      0\n",
       "salary_bands     0\n",
       "annual_salary    0\n",
       "dtype: int64"
      ]
     },
     "execution_count": 5,
     "metadata": {},
     "output_type": "execute_result"
    }
   ],
   "source": [
    "ES.isnull().sum()"
   ]
  },
  {
   "cell_type": "code",
   "execution_count": 13,
   "metadata": {},
   "outputs": [
    {
     "data": {
      "text/html": [
       "<div>\n",
       "<style scoped>\n",
       "    .dataframe tbody tr th:only-of-type {\n",
       "        vertical-align: middle;\n",
       "    }\n",
       "\n",
       "    .dataframe tbody tr th {\n",
       "        vertical-align: top;\n",
       "    }\n",
       "\n",
       "    .dataframe thead th {\n",
       "        text-align: right;\n",
       "    }\n",
       "</style>\n",
       "<table border=\"1\" class=\"dataframe\">\n",
       "  <thead>\n",
       "    <tr style=\"text-align: right;\">\n",
       "      <th></th>\n",
       "      <th>employee_id</th>\n",
       "      <th>business_areas</th>\n",
       "      <th>salary_bands</th>\n",
       "      <th>countries</th>\n",
       "      <th>gender</th>\n",
       "      <th>age</th>\n",
       "      <th>seniority</th>\n",
       "      <th>status</th>\n",
       "    </tr>\n",
       "  </thead>\n",
       "  <tbody>\n",
       "    <tr>\n",
       "      <th>0</th>\n",
       "      <td>70212526</td>\n",
       "      <td>Manufacturing</td>\n",
       "      <td>Band 1</td>\n",
       "      <td>Poland</td>\n",
       "      <td>Female</td>\n",
       "      <td>18-24</td>\n",
       "      <td>0</td>\n",
       "      <td>Active</td>\n",
       "    </tr>\n",
       "    <tr>\n",
       "      <th>1</th>\n",
       "      <td>29344189</td>\n",
       "      <td>Manufacturing</td>\n",
       "      <td>Band 1</td>\n",
       "      <td>Poland</td>\n",
       "      <td>Female</td>\n",
       "      <td>18-24</td>\n",
       "      <td>1</td>\n",
       "      <td>Active</td>\n",
       "    </tr>\n",
       "    <tr>\n",
       "      <th>2</th>\n",
       "      <td>88067934</td>\n",
       "      <td>Manufacturing</td>\n",
       "      <td>Band 1</td>\n",
       "      <td>Poland</td>\n",
       "      <td>Female</td>\n",
       "      <td>18-24</td>\n",
       "      <td>0</td>\n",
       "      <td>Terminated</td>\n",
       "    </tr>\n",
       "    <tr>\n",
       "      <th>3</th>\n",
       "      <td>18375755</td>\n",
       "      <td>Manufacturing</td>\n",
       "      <td>Band 1</td>\n",
       "      <td>Poland</td>\n",
       "      <td>Female</td>\n",
       "      <td>18-24</td>\n",
       "      <td>3 to 4</td>\n",
       "      <td>Active</td>\n",
       "    </tr>\n",
       "    <tr>\n",
       "      <th>4</th>\n",
       "      <td>11476459</td>\n",
       "      <td>Manufacturing</td>\n",
       "      <td>Band 1</td>\n",
       "      <td>Poland</td>\n",
       "      <td>Female</td>\n",
       "      <td>18-24</td>\n",
       "      <td>1</td>\n",
       "      <td>Active</td>\n",
       "    </tr>\n",
       "    <tr>\n",
       "      <th>...</th>\n",
       "      <td>...</td>\n",
       "      <td>...</td>\n",
       "      <td>...</td>\n",
       "      <td>...</td>\n",
       "      <td>...</td>\n",
       "      <td>...</td>\n",
       "      <td>...</td>\n",
       "      <td>...</td>\n",
       "    </tr>\n",
       "    <tr>\n",
       "      <th>1097</th>\n",
       "      <td>76804258</td>\n",
       "      <td>Manufacturing</td>\n",
       "      <td>Band 6</td>\n",
       "      <td>Poland</td>\n",
       "      <td>Male</td>\n",
       "      <td>45-54</td>\n",
       "      <td>3 to 4</td>\n",
       "      <td>Active</td>\n",
       "    </tr>\n",
       "    <tr>\n",
       "      <th>1098</th>\n",
       "      <td>41067304</td>\n",
       "      <td>HR</td>\n",
       "      <td>Band 6</td>\n",
       "      <td>Belgium</td>\n",
       "      <td>Male</td>\n",
       "      <td>55+</td>\n",
       "      <td>1</td>\n",
       "      <td>Active</td>\n",
       "    </tr>\n",
       "    <tr>\n",
       "      <th>1099</th>\n",
       "      <td>52403864</td>\n",
       "      <td>LSCM</td>\n",
       "      <td>Band 6</td>\n",
       "      <td>Poland</td>\n",
       "      <td>Male</td>\n",
       "      <td>55+</td>\n",
       "      <td>1</td>\n",
       "      <td>Active</td>\n",
       "    </tr>\n",
       "    <tr>\n",
       "      <th>1100</th>\n",
       "      <td>75576832</td>\n",
       "      <td>R&amp;D</td>\n",
       "      <td>Band 6</td>\n",
       "      <td>Germany</td>\n",
       "      <td>Male</td>\n",
       "      <td>55+</td>\n",
       "      <td>0</td>\n",
       "      <td>Active</td>\n",
       "    </tr>\n",
       "    <tr>\n",
       "      <th>1101</th>\n",
       "      <td>61389702</td>\n",
       "      <td>Sales</td>\n",
       "      <td>Band 6</td>\n",
       "      <td>Spain</td>\n",
       "      <td>Male</td>\n",
       "      <td>55+</td>\n",
       "      <td>5 to 7</td>\n",
       "      <td>Active</td>\n",
       "    </tr>\n",
       "  </tbody>\n",
       "</table>\n",
       "<p>1102 rows × 8 columns</p>\n",
       "</div>"
      ],
      "text/plain": [
       "      employee_id business_areas salary_bands countries  gender    age  \\\n",
       "0        70212526  Manufacturing       Band 1    Poland  Female  18-24   \n",
       "1        29344189  Manufacturing       Band 1    Poland  Female  18-24   \n",
       "2        88067934  Manufacturing       Band 1    Poland  Female  18-24   \n",
       "3        18375755  Manufacturing       Band 1    Poland  Female  18-24   \n",
       "4        11476459  Manufacturing       Band 1    Poland  Female  18-24   \n",
       "...           ...            ...          ...       ...     ...    ...   \n",
       "1097     76804258  Manufacturing       Band 6    Poland    Male  45-54   \n",
       "1098     41067304             HR       Band 6   Belgium    Male    55+   \n",
       "1099     52403864           LSCM       Band 6    Poland    Male    55+   \n",
       "1100     75576832            R&D       Band 6   Germany    Male    55+   \n",
       "1101     61389702          Sales       Band 6     Spain    Male    55+   \n",
       "\n",
       "     seniority      status  \n",
       "0            0      Active  \n",
       "1            1      Active  \n",
       "2            0  Terminated  \n",
       "3       3 to 4      Active  \n",
       "4            1      Active  \n",
       "...        ...         ...  \n",
       "1097    3 to 4      Active  \n",
       "1098         1      Active  \n",
       "1099         1      Active  \n",
       "1100         0      Active  \n",
       "1101    5 to 7      Active  \n",
       "\n",
       "[1102 rows x 8 columns]"
      ]
     },
     "execution_count": 13,
     "metadata": {},
     "output_type": "execute_result"
    }
   ],
   "source": [
    "EI"
   ]
  },
  {
   "cell_type": "code",
   "execution_count": 23,
   "metadata": {},
   "outputs": [
    {
     "data": {
      "text/html": [
       "<div>\n",
       "<style scoped>\n",
       "    .dataframe tbody tr th:only-of-type {\n",
       "        vertical-align: middle;\n",
       "    }\n",
       "\n",
       "    .dataframe tbody tr th {\n",
       "        vertical-align: top;\n",
       "    }\n",
       "\n",
       "    .dataframe thead th {\n",
       "        text-align: right;\n",
       "    }\n",
       "</style>\n",
       "<table border=\"1\" class=\"dataframe\">\n",
       "  <thead>\n",
       "    <tr style=\"text-align: right;\">\n",
       "      <th></th>\n",
       "      <th>employee_id</th>\n",
       "      <th>salary_bands</th>\n",
       "      <th>annual_salary</th>\n",
       "    </tr>\n",
       "  </thead>\n",
       "  <tbody>\n",
       "    <tr>\n",
       "      <th>0</th>\n",
       "      <td>70212526</td>\n",
       "      <td>Band 1</td>\n",
       "      <td>16891.718104</td>\n",
       "    </tr>\n",
       "    <tr>\n",
       "      <th>1</th>\n",
       "      <td>29344189</td>\n",
       "      <td>Band 1</td>\n",
       "      <td>20122.838669</td>\n",
       "    </tr>\n",
       "    <tr>\n",
       "      <th>2</th>\n",
       "      <td>88067934</td>\n",
       "      <td>Band 1</td>\n",
       "      <td>18906.060972</td>\n",
       "    </tr>\n",
       "    <tr>\n",
       "      <th>3</th>\n",
       "      <td>18375755</td>\n",
       "      <td>Band 1</td>\n",
       "      <td>19205.354166</td>\n",
       "    </tr>\n",
       "    <tr>\n",
       "      <th>4</th>\n",
       "      <td>11476459</td>\n",
       "      <td>Band 1</td>\n",
       "      <td>21884.257402</td>\n",
       "    </tr>\n",
       "    <tr>\n",
       "      <th>...</th>\n",
       "      <td>...</td>\n",
       "      <td>...</td>\n",
       "      <td>...</td>\n",
       "    </tr>\n",
       "    <tr>\n",
       "      <th>1097</th>\n",
       "      <td>76804258</td>\n",
       "      <td>Band 6</td>\n",
       "      <td>284943.866063</td>\n",
       "    </tr>\n",
       "    <tr>\n",
       "      <th>1098</th>\n",
       "      <td>41067304</td>\n",
       "      <td>Band 6</td>\n",
       "      <td>272902.960613</td>\n",
       "    </tr>\n",
       "    <tr>\n",
       "      <th>1099</th>\n",
       "      <td>52403864</td>\n",
       "      <td>Band 6</td>\n",
       "      <td>185101.417872</td>\n",
       "    </tr>\n",
       "    <tr>\n",
       "      <th>1100</th>\n",
       "      <td>75576832</td>\n",
       "      <td>Band 6</td>\n",
       "      <td>257458.856474</td>\n",
       "    </tr>\n",
       "    <tr>\n",
       "      <th>1101</th>\n",
       "      <td>61389702</td>\n",
       "      <td>Band 6</td>\n",
       "      <td>336716.420304</td>\n",
       "    </tr>\n",
       "  </tbody>\n",
       "</table>\n",
       "<p>1102 rows × 3 columns</p>\n",
       "</div>"
      ],
      "text/plain": [
       "      employee_id salary_bands  annual_salary\n",
       "0        70212526       Band 1   16891.718104\n",
       "1        29344189       Band 1   20122.838669\n",
       "2        88067934       Band 1   18906.060972\n",
       "3        18375755       Band 1   19205.354166\n",
       "4        11476459       Band 1   21884.257402\n",
       "...           ...          ...            ...\n",
       "1097     76804258       Band 6  284943.866063\n",
       "1098     41067304       Band 6  272902.960613\n",
       "1099     52403864       Band 6  185101.417872\n",
       "1100     75576832       Band 6  257458.856474\n",
       "1101     61389702       Band 6  336716.420304\n",
       "\n",
       "[1102 rows x 3 columns]"
      ]
     },
     "execution_count": 23,
     "metadata": {},
     "output_type": "execute_result"
    }
   ],
   "source": [
    "ES"
   ]
  },
  {
   "cell_type": "code",
   "execution_count": 24,
   "metadata": {},
   "outputs": [
    {
     "data": {
      "text/html": [
       "<div>\n",
       "<style scoped>\n",
       "    .dataframe tbody tr th:only-of-type {\n",
       "        vertical-align: middle;\n",
       "    }\n",
       "\n",
       "    .dataframe tbody tr th {\n",
       "        vertical-align: top;\n",
       "    }\n",
       "\n",
       "    .dataframe thead th {\n",
       "        text-align: right;\n",
       "    }\n",
       "</style>\n",
       "<table border=\"1\" class=\"dataframe\">\n",
       "  <thead>\n",
       "    <tr style=\"text-align: right;\">\n",
       "      <th></th>\n",
       "      <th>employee_id</th>\n",
       "      <th>performance</th>\n",
       "    </tr>\n",
       "  </thead>\n",
       "  <tbody>\n",
       "    <tr>\n",
       "      <th>0</th>\n",
       "      <td>70212526</td>\n",
       "      <td>Good</td>\n",
       "    </tr>\n",
       "    <tr>\n",
       "      <th>1</th>\n",
       "      <td>29344189</td>\n",
       "      <td>Good</td>\n",
       "    </tr>\n",
       "    <tr>\n",
       "      <th>2</th>\n",
       "      <td>88067934</td>\n",
       "      <td>Needs Improvement</td>\n",
       "    </tr>\n",
       "    <tr>\n",
       "      <th>3</th>\n",
       "      <td>18375755</td>\n",
       "      <td>Underperformer</td>\n",
       "    </tr>\n",
       "    <tr>\n",
       "      <th>4</th>\n",
       "      <td>11476459</td>\n",
       "      <td>Underperformer</td>\n",
       "    </tr>\n",
       "    <tr>\n",
       "      <th>...</th>\n",
       "      <td>...</td>\n",
       "      <td>...</td>\n",
       "    </tr>\n",
       "    <tr>\n",
       "      <th>1097</th>\n",
       "      <td>76804258</td>\n",
       "      <td>Good</td>\n",
       "    </tr>\n",
       "    <tr>\n",
       "      <th>1098</th>\n",
       "      <td>41067304</td>\n",
       "      <td>Exceptional</td>\n",
       "    </tr>\n",
       "    <tr>\n",
       "      <th>1099</th>\n",
       "      <td>52403864</td>\n",
       "      <td>Exceptional</td>\n",
       "    </tr>\n",
       "    <tr>\n",
       "      <th>1100</th>\n",
       "      <td>75576832</td>\n",
       "      <td>Exceptional</td>\n",
       "    </tr>\n",
       "    <tr>\n",
       "      <th>1101</th>\n",
       "      <td>61389702</td>\n",
       "      <td>Good</td>\n",
       "    </tr>\n",
       "  </tbody>\n",
       "</table>\n",
       "<p>1102 rows × 2 columns</p>\n",
       "</div>"
      ],
      "text/plain": [
       "      employee_id        performance\n",
       "0        70212526               Good\n",
       "1        29344189               Good\n",
       "2        88067934  Needs Improvement\n",
       "3        18375755     Underperformer\n",
       "4        11476459     Underperformer\n",
       "...           ...                ...\n",
       "1097     76804258               Good\n",
       "1098     41067304        Exceptional\n",
       "1099     52403864        Exceptional\n",
       "1100     75576832        Exceptional\n",
       "1101     61389702               Good\n",
       "\n",
       "[1102 rows x 2 columns]"
      ]
     },
     "execution_count": 24,
     "metadata": {},
     "output_type": "execute_result"
    }
   ],
   "source": [
    "EP"
   ]
  },
  {
   "cell_type": "code",
   "execution_count": 74,
   "metadata": {},
   "outputs": [
    {
     "data": {
      "text/html": [
       "<div>\n",
       "<style scoped>\n",
       "    .dataframe tbody tr th:only-of-type {\n",
       "        vertical-align: middle;\n",
       "    }\n",
       "\n",
       "    .dataframe tbody tr th {\n",
       "        vertical-align: top;\n",
       "    }\n",
       "\n",
       "    .dataframe thead th {\n",
       "        text-align: right;\n",
       "    }\n",
       "</style>\n",
       "<table border=\"1\" class=\"dataframe\">\n",
       "  <thead>\n",
       "    <tr style=\"text-align: right;\">\n",
       "      <th></th>\n",
       "      <th>employee_id</th>\n",
       "      <th>business_areas</th>\n",
       "      <th>salary_bands</th>\n",
       "      <th>countries</th>\n",
       "      <th>gender</th>\n",
       "      <th>age</th>\n",
       "      <th>seniority</th>\n",
       "      <th>status</th>\n",
       "      <th>performance</th>\n",
       "      <th>annual_salary</th>\n",
       "    </tr>\n",
       "  </thead>\n",
       "  <tbody>\n",
       "    <tr>\n",
       "      <th>0</th>\n",
       "      <td>70212526</td>\n",
       "      <td>Manufacturing</td>\n",
       "      <td>Band 1</td>\n",
       "      <td>Poland</td>\n",
       "      <td>Female</td>\n",
       "      <td>18-24</td>\n",
       "      <td>0</td>\n",
       "      <td>Active</td>\n",
       "      <td>Good</td>\n",
       "      <td>16.892</td>\n",
       "    </tr>\n",
       "    <tr>\n",
       "      <th>1</th>\n",
       "      <td>29344189</td>\n",
       "      <td>Manufacturing</td>\n",
       "      <td>Band 1</td>\n",
       "      <td>Poland</td>\n",
       "      <td>Female</td>\n",
       "      <td>18-24</td>\n",
       "      <td>1</td>\n",
       "      <td>Active</td>\n",
       "      <td>Good</td>\n",
       "      <td>20.123</td>\n",
       "    </tr>\n",
       "    <tr>\n",
       "      <th>2</th>\n",
       "      <td>88067934</td>\n",
       "      <td>Manufacturing</td>\n",
       "      <td>Band 1</td>\n",
       "      <td>Poland</td>\n",
       "      <td>Female</td>\n",
       "      <td>18-24</td>\n",
       "      <td>0</td>\n",
       "      <td>Terminated</td>\n",
       "      <td>Needs Improvement</td>\n",
       "      <td>18.906</td>\n",
       "    </tr>\n",
       "    <tr>\n",
       "      <th>3</th>\n",
       "      <td>18375755</td>\n",
       "      <td>Manufacturing</td>\n",
       "      <td>Band 1</td>\n",
       "      <td>Poland</td>\n",
       "      <td>Female</td>\n",
       "      <td>18-24</td>\n",
       "      <td>3 to 4</td>\n",
       "      <td>Active</td>\n",
       "      <td>Underperformer</td>\n",
       "      <td>19.205</td>\n",
       "    </tr>\n",
       "    <tr>\n",
       "      <th>4</th>\n",
       "      <td>11476459</td>\n",
       "      <td>Manufacturing</td>\n",
       "      <td>Band 1</td>\n",
       "      <td>Poland</td>\n",
       "      <td>Female</td>\n",
       "      <td>18-24</td>\n",
       "      <td>1</td>\n",
       "      <td>Active</td>\n",
       "      <td>Underperformer</td>\n",
       "      <td>21.884</td>\n",
       "    </tr>\n",
       "    <tr>\n",
       "      <th>...</th>\n",
       "      <td>...</td>\n",
       "      <td>...</td>\n",
       "      <td>...</td>\n",
       "      <td>...</td>\n",
       "      <td>...</td>\n",
       "      <td>...</td>\n",
       "      <td>...</td>\n",
       "      <td>...</td>\n",
       "      <td>...</td>\n",
       "      <td>...</td>\n",
       "    </tr>\n",
       "    <tr>\n",
       "      <th>1097</th>\n",
       "      <td>76804258</td>\n",
       "      <td>Manufacturing</td>\n",
       "      <td>Band 6</td>\n",
       "      <td>Poland</td>\n",
       "      <td>Male</td>\n",
       "      <td>45-54</td>\n",
       "      <td>3 to 4</td>\n",
       "      <td>Active</td>\n",
       "      <td>Good</td>\n",
       "      <td>284.944</td>\n",
       "    </tr>\n",
       "    <tr>\n",
       "      <th>1098</th>\n",
       "      <td>41067304</td>\n",
       "      <td>HR</td>\n",
       "      <td>Band 6</td>\n",
       "      <td>Belgium</td>\n",
       "      <td>Male</td>\n",
       "      <td>55+</td>\n",
       "      <td>1</td>\n",
       "      <td>Active</td>\n",
       "      <td>Exceptional</td>\n",
       "      <td>272.903</td>\n",
       "    </tr>\n",
       "    <tr>\n",
       "      <th>1099</th>\n",
       "      <td>52403864</td>\n",
       "      <td>LSCM</td>\n",
       "      <td>Band 6</td>\n",
       "      <td>Poland</td>\n",
       "      <td>Male</td>\n",
       "      <td>55+</td>\n",
       "      <td>1</td>\n",
       "      <td>Active</td>\n",
       "      <td>Exceptional</td>\n",
       "      <td>185.101</td>\n",
       "    </tr>\n",
       "    <tr>\n",
       "      <th>1100</th>\n",
       "      <td>75576832</td>\n",
       "      <td>R&amp;D</td>\n",
       "      <td>Band 6</td>\n",
       "      <td>Germany</td>\n",
       "      <td>Male</td>\n",
       "      <td>55+</td>\n",
       "      <td>0</td>\n",
       "      <td>Active</td>\n",
       "      <td>Exceptional</td>\n",
       "      <td>257.459</td>\n",
       "    </tr>\n",
       "    <tr>\n",
       "      <th>1101</th>\n",
       "      <td>61389702</td>\n",
       "      <td>Sales</td>\n",
       "      <td>Band 6</td>\n",
       "      <td>Spain</td>\n",
       "      <td>Male</td>\n",
       "      <td>55+</td>\n",
       "      <td>5 to 7</td>\n",
       "      <td>Active</td>\n",
       "      <td>Good</td>\n",
       "      <td>336.716</td>\n",
       "    </tr>\n",
       "  </tbody>\n",
       "</table>\n",
       "<p>1102 rows × 10 columns</p>\n",
       "</div>"
      ],
      "text/plain": [
       "      employee_id business_areas salary_bands countries  gender    age  \\\n",
       "0        70212526  Manufacturing       Band 1    Poland  Female  18-24   \n",
       "1        29344189  Manufacturing       Band 1    Poland  Female  18-24   \n",
       "2        88067934  Manufacturing       Band 1    Poland  Female  18-24   \n",
       "3        18375755  Manufacturing       Band 1    Poland  Female  18-24   \n",
       "4        11476459  Manufacturing       Band 1    Poland  Female  18-24   \n",
       "...           ...            ...          ...       ...     ...    ...   \n",
       "1097     76804258  Manufacturing       Band 6    Poland    Male  45-54   \n",
       "1098     41067304             HR       Band 6   Belgium    Male    55+   \n",
       "1099     52403864           LSCM       Band 6    Poland    Male    55+   \n",
       "1100     75576832            R&D       Band 6   Germany    Male    55+   \n",
       "1101     61389702          Sales       Band 6     Spain    Male    55+   \n",
       "\n",
       "     seniority      status        performance  annual_salary  \n",
       "0            0      Active               Good         16.892  \n",
       "1            1      Active               Good         20.123  \n",
       "2            0  Terminated  Needs Improvement         18.906  \n",
       "3       3 to 4      Active     Underperformer         19.205  \n",
       "4            1      Active     Underperformer         21.884  \n",
       "...        ...         ...                ...            ...  \n",
       "1097    3 to 4      Active               Good        284.944  \n",
       "1098         1      Active        Exceptional        272.903  \n",
       "1099         1      Active        Exceptional        185.101  \n",
       "1100         0      Active        Exceptional        257.459  \n",
       "1101    5 to 7      Active               Good        336.716  \n",
       "\n",
       "[1102 rows x 10 columns]"
      ]
     },
     "execution_count": 74,
     "metadata": {},
     "output_type": "execute_result"
    }
   ],
   "source": [
    "df=pd.merge(pd.merge(EI,EP, on='employee_id'),ES, on=['employee_id','salary_bands'])\n",
    "df['annual_salary']=(df['annual_salary']/1000).round(3)\n",
    "df"
   ]
  },
  {
   "cell_type": "code",
   "execution_count": 35,
   "metadata": {},
   "outputs": [
    {
     "name": "stdout",
     "output_type": "stream",
     "text": [
      "<class 'pandas.core.frame.DataFrame'>\n",
      "RangeIndex: 1102 entries, 0 to 1101\n",
      "Data columns (total 10 columns):\n",
      " #   Column          Non-Null Count  Dtype  \n",
      "---  ------          --------------  -----  \n",
      " 0   employee_id     1102 non-null   int64  \n",
      " 1   business_areas  1102 non-null   object \n",
      " 2   salary_bands    1102 non-null   object \n",
      " 3   countries       1102 non-null   object \n",
      " 4   gender          1102 non-null   object \n",
      " 5   age             1102 non-null   object \n",
      " 6   seniority       1102 non-null   object \n",
      " 7   status          1102 non-null   object \n",
      " 8   performance     1102 non-null   object \n",
      " 9   annual_salary   1102 non-null   float64\n",
      "dtypes: float64(1), int64(1), object(8)\n",
      "memory usage: 86.2+ KB\n"
     ]
    }
   ],
   "source": [
    "df.info()"
   ]
  },
  {
   "cell_type": "code",
   "execution_count": 10,
   "metadata": {},
   "outputs": [
    {
     "name": "stdout",
     "output_type": "stream",
     "text": [
      "Average male salary is 35904.559 and average female salary is 53647.986\n"
     ]
    }
   ],
   "source": [
    "m=df[df['gender']=='Male']['annual_salary'].mean().round(3)\n",
    "f=df[df['gender']=='Female']['annual_salary'].mean().round(3)\n",
    "print(f'Average male salary is {m} and average female salary is {f}')"
   ]
  },
  {
   "cell_type": "code",
   "execution_count": 11,
   "metadata": {},
   "outputs": [
    {
     "data": {
      "application/vnd.plotly.v1+json": {
       "config": {
        "plotlyServerURL": "https://plot.ly"
       },
       "data": [
        {
         "alignmentgroup": "True",
         "hovertemplate": "gender=%{x}<br>annual_salary=%{y}<extra></extra>",
         "legendgroup": "",
         "marker": {
          "color": "#636efa"
         },
         "name": "",
         "notched": false,
         "offsetgroup": "",
         "orientation": "v",
         "showlegend": false,
         "type": "box",
         "x": [
          "Female",
          "Female",
          "Female",
          "Female",
          "Female",
          "Female",
          "Female",
          "Female",
          "Female",
          "Female",
          "Female",
          "Female",
          "Female",
          "Female",
          "Female",
          "Female",
          "Female",
          "Female",
          "Female",
          "Female",
          "Female",
          "Female",
          "Female",
          "Female",
          "Female",
          "Female",
          "Female",
          "Female",
          "Female",
          "Female",
          "Female",
          "Female",
          "Female",
          "Female",
          "Female",
          "Female",
          "Female",
          "Female",
          "Female",
          "Female",
          "Female",
          "Female",
          "Female",
          "Female",
          "Female",
          "Female",
          "Female",
          "Female",
          "Female",
          "Female",
          "Female",
          "Female",
          "Female",
          "Female",
          "Female",
          "Female",
          "Female",
          "Female",
          "Female",
          "Female",
          "Female",
          "Female",
          "Female",
          "Female",
          "Female",
          "Female",
          "Female",
          "Female",
          "Female",
          "Female",
          "Female",
          "Female",
          "Female",
          "Female",
          "Female",
          "Female",
          "Female",
          "Female",
          "Female",
          "Female",
          "Female",
          "Female",
          "Female",
          "Female",
          "Female",
          "Female",
          "Female",
          "Female",
          "Female",
          "Female",
          "Female",
          "Female",
          "Female",
          "Female",
          "Female",
          "Female",
          "Female",
          "Female",
          "Female",
          "Female",
          "Female",
          "Female",
          "Female",
          "Female",
          "Female",
          "Female",
          "Female",
          "Female",
          "Female",
          "Female",
          "Female",
          "Female",
          "Female",
          "Female",
          "Female",
          "Female",
          "Female",
          "Female",
          "Female",
          "Female",
          "Female",
          "Female",
          "Female",
          "Female",
          "Female",
          "Female",
          "Female",
          "Female",
          "Female",
          "Female",
          "Female",
          "Female",
          "Female",
          "Female",
          "Female",
          "Female",
          "Female",
          "Female",
          "Female",
          "Female",
          "Female",
          "Female",
          "Female",
          "Female",
          "Female",
          "Female",
          "Female",
          "Female",
          "Female",
          "Female",
          "Female",
          "Female",
          "Female",
          "Female",
          "Female",
          "Female",
          "Female",
          "Female",
          "Female",
          "Female",
          "Female",
          "Female",
          "Female",
          "Female",
          "Female",
          "Female",
          "Female",
          "Female",
          "Female",
          "Female",
          "Female",
          "Female",
          "Female",
          "Female",
          "Female",
          "Female",
          "Female",
          "Female",
          "Female",
          "Female",
          "Female",
          "Female",
          "Female",
          "Female",
          "Female",
          "Female",
          "Female",
          "Female",
          "Female",
          "Female",
          "Female",
          "Female",
          "Female",
          "Female",
          "Female",
          "Female",
          "Female",
          "Female",
          "Female",
          "Female",
          "Female",
          "Female",
          "Female",
          "Female",
          "Female",
          "Female",
          "Female",
          "Male",
          "Male",
          "Male",
          "Male",
          "Male",
          "Male",
          "Male",
          "Male",
          "Male",
          "Male",
          "Male",
          "Male",
          "Male",
          "Male",
          "Male",
          "Male",
          "Male",
          "Male",
          "Male",
          "Male",
          "Male",
          "Male",
          "Male",
          "Male",
          "Male",
          "Male",
          "Male",
          "Male",
          "Male",
          "Male",
          "Male",
          "Male",
          "Male",
          "Male",
          "Male",
          "Male",
          "Male",
          "Male",
          "Male",
          "Male",
          "Male",
          "Male",
          "Male",
          "Male",
          "Male",
          "Male",
          "Male",
          "Male",
          "Male",
          "Male",
          "Male",
          "Male",
          "Male",
          "Male",
          "Male",
          "Male",
          "Male",
          "Male",
          "Male",
          "Male",
          "Male",
          "Male",
          "Male",
          "Male",
          "Male",
          "Male",
          "Male",
          "Male",
          "Male",
          "Male",
          "Male",
          "Male",
          "Male",
          "Male",
          "Male",
          "Male",
          "Male",
          "Male",
          "Male",
          "Male",
          "Male",
          "Male",
          "Male",
          "Male",
          "Male",
          "Male",
          "Male",
          "Male",
          "Male",
          "Male",
          "Male",
          "Male",
          "Male",
          "Male",
          "Male",
          "Male",
          "Male",
          "Male",
          "Male",
          "Male",
          "Male",
          "Male",
          "Male",
          "Male",
          "Male",
          "Male",
          "Male",
          "Male",
          "Male",
          "Male",
          "Male",
          "Male",
          "Male",
          "Male",
          "Male",
          "Male",
          "Male",
          "Male",
          "Male",
          "Male",
          "Male",
          "Male",
          "Male",
          "Male",
          "Male",
          "Male",
          "Male",
          "Male",
          "Male",
          "Male",
          "Male",
          "Male",
          "Male",
          "Male",
          "Male",
          "Male",
          "Male",
          "Male",
          "Male",
          "Male",
          "Male",
          "Male",
          "Male",
          "Male",
          "Male",
          "Male",
          "Male",
          "Male",
          "Male",
          "Male",
          "Male",
          "Male",
          "Male",
          "Male",
          "Male",
          "Male",
          "Male",
          "Male",
          "Male",
          "Male",
          "Male",
          "Male",
          "Male",
          "Male",
          "Male",
          "Male",
          "Male",
          "Male",
          "Male",
          "Male",
          "Male",
          "Male",
          "Male",
          "Male",
          "Male",
          "Male",
          "Male",
          "Male",
          "Male",
          "Male",
          "Male",
          "Male",
          "Male",
          "Male",
          "Male",
          "Male",
          "Male",
          "Male",
          "Male",
          "Male",
          "Male",
          "Male",
          "Male",
          "Male",
          "Male",
          "Male",
          "Male",
          "Male",
          "Male",
          "Male",
          "Male",
          "Male",
          "Male",
          "Male",
          "Male",
          "Male",
          "Male",
          "Male",
          "Male",
          "Male",
          "Male",
          "Male",
          "Male",
          "Male",
          "Male",
          "Male",
          "Male",
          "Male",
          "Male",
          "Male",
          "Male",
          "Male",
          "Male",
          "Male",
          "Male",
          "Male",
          "Male",
          "Male",
          "Male",
          "Male",
          "Male",
          "Male",
          "Male",
          "Male",
          "Male",
          "Male",
          "Male",
          "Male",
          "Male",
          "Male",
          "Male",
          "Male",
          "Male",
          "Male",
          "Male",
          "Male",
          "Male",
          "Male",
          "Male",
          "Male",
          "Male",
          "Male",
          "Male",
          "Male",
          "Male",
          "Male",
          "Male",
          "Male",
          "Male",
          "Male",
          "Male",
          "Male",
          "Male",
          "Male",
          "Male",
          "Male",
          "Male",
          "Male",
          "Male",
          "Male",
          "Male",
          "Male",
          "Male",
          "Male",
          "Male",
          "Male",
          "Male",
          "Male",
          "Male",
          "Male",
          "Male",
          "Male",
          "Male",
          "Male",
          "Male",
          "Male",
          "Male",
          "Male",
          "Male",
          "Male",
          "Male",
          "Male",
          "Male",
          "Male",
          "Male",
          "Male",
          "Male",
          "Male",
          "Male",
          "Male",
          "Male",
          "Male",
          "Male",
          "Male",
          "Male",
          "Male",
          "Male",
          "Male",
          "Male",
          "Male",
          "Male",
          "Male",
          "Male",
          "Male",
          "Male",
          "Male",
          "Male",
          "Male",
          "Male",
          "Male",
          "Male",
          "Male",
          "Male",
          "Male",
          "Male",
          "Male",
          "Male",
          "Male",
          "Male",
          "Male",
          "Male",
          "Male",
          "Male",
          "Male",
          "Male",
          "Male",
          "Male",
          "Male",
          "Male",
          "Male",
          "Male",
          "Male",
          "Male",
          "Male",
          "Male",
          "Male",
          "Male",
          "Male",
          "Male",
          "Male",
          "Male",
          "Male",
          "Male",
          "Male",
          "Male",
          "Male",
          "Male",
          "Male",
          "Male",
          "Male",
          "Male",
          "Male",
          "Male",
          "Male",
          "Male",
          "Male",
          "Male",
          "Male",
          "Male",
          "Male",
          "Male",
          "Male",
          "Male",
          "Male",
          "Male",
          "Male",
          "Male",
          "Male",
          "Male",
          "Male",
          "Male",
          "Male",
          "Male",
          "Male",
          "Male",
          "Male",
          "Male",
          "Male",
          "Male",
          "Male",
          "Male",
          "Male",
          "Male",
          "Male",
          "Male",
          "Male",
          "Male",
          "Male",
          "Male",
          "Male",
          "Male",
          "Male",
          "Male",
          "Male",
          "Male",
          "Male",
          "Male",
          "Male",
          "Male",
          "Male",
          "Male",
          "Male",
          "Male",
          "Male",
          "Male",
          "Male",
          "Male",
          "Male",
          "Male",
          "Male",
          "Male",
          "Male",
          "Male",
          "Male",
          "Male",
          "Male",
          "Male",
          "Male",
          "Male",
          "Male",
          "Male",
          "Male",
          "Male",
          "Male",
          "Male",
          "Male",
          "Male",
          "Male",
          "Male",
          "Male",
          "Male",
          "Male",
          "Male",
          "Male",
          "Male",
          "Male",
          "Male",
          "Male",
          "Male",
          "Male",
          "Male",
          "Male",
          "Male",
          "Male",
          "Male",
          "Male",
          "Male",
          "Male",
          "Male",
          "Male",
          "Male",
          "Male",
          "Male",
          "Male",
          "Male",
          "Male",
          "Male",
          "Male",
          "Male",
          "Male",
          "Male",
          "Male",
          "Male",
          "Male",
          "Male",
          "Male",
          "Male",
          "Male",
          "Male",
          "Male",
          "Male",
          "Male",
          "Male",
          "Male",
          "Male",
          "Male",
          "Male",
          "Male",
          "Male",
          "Male",
          "Male",
          "Male",
          "Male",
          "Male",
          "Male",
          "Male",
          "Male",
          "Male",
          "Male",
          "Male",
          "Male",
          "Male",
          "Male",
          "Male",
          "Male",
          "Male",
          "Male",
          "Male",
          "Male",
          "Male",
          "Male",
          "Male",
          "Male",
          "Male",
          "Male",
          "Male",
          "Male",
          "Male",
          "Male",
          "Male",
          "Male",
          "Male",
          "Male",
          "Male",
          "Male",
          "Male",
          "Male",
          "Male",
          "Male",
          "Male",
          "Male",
          "Male",
          "Male",
          "Male",
          "Male",
          "Male",
          "Male",
          "Male",
          "Male",
          "Male",
          "Male",
          "Male",
          "Male",
          "Male",
          "Male",
          "Male",
          "Male",
          "Male",
          "Male",
          "Male",
          "Male",
          "Male",
          "Male",
          "Male",
          "Male",
          "Male",
          "Male",
          "Male",
          "Male",
          "Male",
          "Male",
          "Male",
          "Male",
          "Male",
          "Male",
          "Male",
          "Male",
          "Male",
          "Male",
          "Male",
          "Male",
          "Male",
          "Male",
          "Male",
          "Male",
          "Male",
          "Male",
          "Male",
          "Male",
          "Male",
          "Male",
          "Male",
          "Male",
          "Male",
          "Male",
          "Male",
          "Male",
          "Male",
          "Male",
          "Male",
          "Male",
          "Male",
          "Male",
          "Male",
          "Male",
          "Male",
          "Male",
          "Male",
          "Male",
          "Male",
          "Male",
          "Male",
          "Male",
          "Male",
          "Male",
          "Male",
          "Male",
          "Male",
          "Male",
          "Male",
          "Male",
          "Male",
          "Male",
          "Male",
          "Male",
          "Male",
          "Male",
          "Male",
          "Male",
          "Male",
          "Male",
          "Male",
          "Male",
          "Male",
          "Male",
          "Male",
          "Male",
          "Male",
          "Male",
          "Male",
          "Male",
          "Male",
          "Male",
          "Male",
          "Male",
          "Male",
          "Male",
          "Male",
          "Male",
          "Male",
          "Male",
          "Male",
          "Male",
          "Male",
          "Male",
          "Male",
          "Male",
          "Male",
          "Male",
          "Male",
          "Male",
          "Male",
          "Male",
          "Male",
          "Male",
          "Male",
          "Male",
          "Male",
          "Male",
          "Male",
          "Male",
          "Male",
          "Male",
          "Male",
          "Male",
          "Male",
          "Male",
          "Male",
          "Male",
          "Male",
          "Male",
          "Male",
          "Male",
          "Male",
          "Male",
          "Male",
          "Male",
          "Male",
          "Male",
          "Male",
          "Male",
          "Male",
          "Male",
          "Male",
          "Male",
          "Male",
          "Male",
          "Male",
          "Male",
          "Male",
          "Male",
          "Male",
          "Male",
          "Male",
          "Male",
          "Male",
          "Male",
          "Male",
          "Male",
          "Male",
          "Male",
          "Male",
          "Male",
          "Male",
          "Male",
          "Male",
          "Male",
          "Male",
          "Male",
          "Male",
          "Male",
          "Male",
          "Male",
          "Male",
          "Male",
          "Male",
          "Male",
          "Male",
          "Male",
          "Male",
          "Male",
          "Male",
          "Male",
          "Male",
          "Male",
          "Male",
          "Male",
          "Male",
          "Male",
          "Male",
          "Male",
          "Male",
          "Male",
          "Male",
          "Male",
          "Male",
          "Male",
          "Male",
          "Male",
          "Male",
          "Male",
          "Male",
          "Male",
          "Male",
          "Male",
          "Male",
          "Male",
          "Male",
          "Male",
          "Male",
          "Male",
          "Male",
          "Male",
          "Male",
          "Male",
          "Male",
          "Male",
          "Male",
          "Male",
          "Male",
          "Male",
          "Male",
          "Male",
          "Male",
          "Male",
          "Male",
          "Male",
          "Male",
          "Male",
          "Male",
          "Male",
          "Male",
          "Male",
          "Male",
          "Male",
          "Male",
          "Male",
          "Male",
          "Male",
          "Male",
          "Male",
          "Male",
          "Male",
          "Male",
          "Male",
          "Male",
          "Male",
          "Male",
          "Male",
          "Male",
          "Male",
          "Male",
          "Male",
          "Male",
          "Male",
          "Male",
          "Male",
          "Male",
          "Male",
          "Male",
          "Male",
          "Male",
          "Male",
          "Male",
          "Male",
          "Male",
          "Male",
          "Male",
          "Male",
          "Male",
          "Male",
          "Male",
          "Male",
          "Male",
          "Male",
          "Male",
          "Male",
          "Male",
          "Male",
          "Male",
          "Male",
          "Male",
          "Male",
          "Male",
          "Male",
          "Male",
          "Male",
          "Male",
          "Male",
          "Male",
          "Male",
          "Male",
          "Male",
          "Male",
          "Male",
          "Male",
          "Male",
          "Male",
          "Male",
          "Male",
          "Male",
          "Male",
          "Male",
          "Male",
          "Male",
          "Male",
          "Male",
          "Male",
          "Male",
          "Male",
          "Male",
          "Male",
          "Male",
          "Male",
          "Male",
          "Male",
          "Male",
          "Male",
          "Male",
          "Male",
          "Male",
          "Male",
          "Male",
          "Male",
          "Male",
          "Male",
          "Male",
          "Male",
          "Male",
          "Male",
          "Male",
          "Male",
          "Male",
          "Male",
          "Male",
          "Male",
          "Male",
          "Male",
          "Male",
          "Male",
          "Male",
          "Male",
          "Male",
          "Male",
          "Male",
          "Male",
          "Male",
          "Male",
          "Male",
          "Male",
          "Male",
          "Male",
          "Male",
          "Male",
          "Male"
         ],
         "x0": " ",
         "xaxis": "x",
         "y": [
          16891.7181036142,
          20122.8386689318,
          18906.0609724079,
          19205.3541656574,
          21884.2574019158,
          20857.8773948374,
          15763.5733254375,
          13822.0862002352,
          18214.3778228216,
          12605.7284130472,
          17959.4499392089,
          22493.9672427227,
          12881.7437050897,
          17853.337374689,
          18570.7243731901,
          22253.6520841074,
          16268.332670367,
          20631.5324850559,
          17830.8838316428,
          18344.8333740795,
          20365.8019993556,
          15457.2562375996,
          15271.0997018024,
          26938.7249930946,
          25686.4686925842,
          16428.2910224656,
          24958.3823105558,
          26065.2914988277,
          20778.8077169137,
          16632.8163578226,
          18160.1012533417,
          33609.370450354,
          26127.5892656681,
          19419.3712927963,
          17073.1778611555,
          24458.9750721717,
          33914.279408584,
          21625.8498834919,
          22259.9383456803,
          26606.8657288682,
          23198.8229182635,
          19457.41589841,
          24993.3995949663,
          21501.9820839273,
          24387.6907009983,
          19866.4037912452,
          18471.5842920548,
          19579.9544767987,
          23344.8007564705,
          36457.958602947,
          19991.2681655621,
          14988.2802778195,
          17951.9385905154,
          24735.3320465122,
          33309.7485589245,
          22194.2767318776,
          27124.8526873739,
          24310.1488600713,
          15971.1741806499,
          23797.2044250622,
          20811.9897454601,
          21444.6701288795,
          31803.847957355,
          21645.6095327894,
          23887.8770848003,
          20100.019463372,
          32274.5610590298,
          19900.698237128,
          31341.8139376448,
          37202.9700641369,
          34733.7383862337,
          36787.0268117477,
          28132.1479627868,
          32249.4051690586,
          28039.4516515973,
          27015.2515828475,
          44009.5367978484,
          37616.090679008,
          33504.3701403162,
          51328.5711542724,
          46213.285085048,
          42992.6494118998,
          35193.6904566219,
          44216.3973142455,
          35424.4891325914,
          34978.1075247659,
          45998.4126508915,
          39343.8994536692,
          46339.3858958892,
          35565.6543365371,
          32918.2384906387,
          33867.6238856381,
          31306.2219720442,
          35463.5383762054,
          33169.3169284561,
          32705.0210560294,
          31840.2867461638,
          38724.1317411474,
          42401.5451834212,
          52013.5054984847,
          52785.6946302954,
          34281.5879133045,
          40912.6618581913,
          45297.6758191286,
          46132.341485272,
          38205.2146492054,
          59306.4037810691,
          46081.643924271,
          32754.1363202993,
          32939.7229758325,
          39676.8007461787,
          45992.5499641683,
          38026.5858699623,
          33452.7865544364,
          37826.7938947833,
          44515.6426838161,
          45152.8579288765,
          44191.9891456819,
          55245.4387359566,
          32577.8978945551,
          29273.2237231631,
          39163.2569526854,
          41321.7280309137,
          38472.6967523741,
          47604.6623323595,
          27589.2925945515,
          51615.3506767967,
          48342.8831922324,
          42909.5484461798,
          41347.5415299587,
          55059.4385506443,
          55110.9868705184,
          62038.6798852636,
          58850.9672838019,
          68879.4002665268,
          70958.5723860128,
          75940.1946990269,
          76367.2932295235,
          76951.3654445771,
          84259.5361865492,
          72013.3178808887,
          67738.6335757801,
          67520.7327504386,
          72216.587496243,
          74047.9473424917,
          89434.6605158613,
          57563.5172035983,
          63435.306106657,
          67905.346462769,
          65912.7859757813,
          66644.4204042559,
          65266.7024022394,
          70166.4042640204,
          67765.6099043716,
          70490.2175465217,
          55774.2612462746,
          77374.1325252251,
          87949.4836860093,
          51374.4348125138,
          58213.7535725622,
          78004.6259955428,
          95714.7090302227,
          51018.0025366007,
          78353.0569033684,
          78401.0525883631,
          66725.122196162,
          81777.9769967812,
          66191.9559486289,
          60055.0915932442,
          100875.095941623,
          69293.9275036053,
          58811.6507235112,
          72891.7092086369,
          101697.415958177,
          111844.235014492,
          86688.0342429256,
          79559.8547293571,
          110086.331171018,
          93896.6938002257,
          86808.7534060718,
          91083.4711530554,
          91939.7911072857,
          113535.246842903,
          104142.462928293,
          94662.3410862683,
          99962.9182307917,
          121296.498500761,
          84635.5409103597,
          77925.8683632468,
          106738.060412599,
          78578.7321182148,
          106059.065840435,
          107095.023575921,
          116063.85625628,
          121404.973273436,
          124872.414278831,
          137751.840494718,
          157383.12122478,
          137358.661571042,
          174632.347823294,
          170291.917663874,
          156936.666987498,
          180746.895329034,
          115514.384110352,
          159394.782290191,
          259251.666498962,
          225617.777800912,
          15500.8182001782,
          14966.9047510841,
          13093.796212228,
          15326.1368806024,
          18040.4072695056,
          23933.4147475206,
          22134.4158344377,
          18708.2355103764,
          14628.1024641497,
          21596.9208257514,
          20171.0728175723,
          18741.0421761694,
          16087.3999175275,
          20850.8919563095,
          20589.4339725957,
          14605.1371313973,
          17123.435704575,
          18650.8178072857,
          15052.4381923386,
          20583.1961885582,
          20188.4955943436,
          16357.4636161898,
          16745.4087554536,
          16220.3858865842,
          17985.8929152777,
          17015.4904735857,
          14207.5743619055,
          18816.6361704479,
          20724.4884225458,
          23065.4868998351,
          11934.2645777417,
          19620.9825145072,
          16661.781042873,
          15286.5011912171,
          15220.864081786,
          8289.28942657065,
          16884.7435311202,
          18852.0642629877,
          20088.570531034,
          17723.0214829277,
          23066.6609706755,
          14053.3024165614,
          19061.6242485073,
          15574.3102966262,
          12453.7690233223,
          18912.318363949,
          19740.0557323338,
          20312.7930503433,
          24490.9191174431,
          19712.4985588196,
          21061.9396337894,
          17609.5604248399,
          21727.7831455538,
          12931.4068554762,
          17976.6966161879,
          16033.5113124079,
          13994.2822821706,
          16129.3831578135,
          12797.5720672346,
          13568.9797362153,
          12377.9779129794,
          14629.3953409119,
          19148.4693159079,
          20799.9457062811,
          14154.5095990302,
          12310.1630908405,
          16133.2729249301,
          19320.8296242837,
          19178.8945994504,
          23014.1500272783,
          13731.0171932972,
          17408.9004305713,
          19788.2432776235,
          17480.6538352876,
          18932.2809294853,
          17933.4647894964,
          17350.3314617239,
          13318.1634736817,
          17263.9181910569,
          14404.0249688167,
          16094.9089440106,
          21030.2910742226,
          21727.0943243705,
          17722.8517454422,
          18614.1995479188,
          20583.0611835892,
          17599.3343486648,
          21353.039235474,
          23382.2077361844,
          20871.0858227082,
          14590.2483688078,
          19195.6637840091,
          17071.5288734369,
          12691.103903774,
          12788.2359012163,
          19958.808421381,
          21636.9108614845,
          15932.9485459111,
          20236.2409363889,
          16742.9489832108,
          20081.2552333382,
          22484.6277824693,
          26047.382121258,
          15589.3966565007,
          10019.7973193246,
          19928.8417686269,
          14704.3111704255,
          17427.5958191348,
          18757.0463567384,
          18592.1778332395,
          17193.8556206053,
          18185.3404527689,
          20746.6642401639,
          12639.9106582777,
          18767.8857099713,
          20561.9033658885,
          21571.0754110666,
          17671.7354401459,
          20678.4072114433,
          19864.2558908757,
          16983.6649433959,
          17002.1478376004,
          15834.7011037599,
          13040.109346035,
          22398.2901679998,
          13844.3770658946,
          18082.9524078563,
          20204.9155918799,
          22999.5561074164,
          20048.5213929758,
          15877.2048613888,
          16891.3029840341,
          21450.4840640967,
          17696.6129654671,
          16313.1723421353,
          16371.4555818611,
          17310.1122053606,
          25903.2168897769,
          21307.3425498641,
          20415.5878419829,
          15442.995532341,
          21482.2661137257,
          16225.5912310422,
          18162.2917369237,
          15386.2722798848,
          17232.6250781364,
          21416.9619206005,
          23737.4468269278,
          26609.3279581029,
          20978.0308743611,
          17104.7198478928,
          13302.097969906,
          19506.9083170941,
          13510.4765589277,
          20407.6827135076,
          20760.8484563614,
          17592.9632858283,
          21497.1947494345,
          21362.4091766523,
          18327.7381432391,
          14068.3877611551,
          22636.1241813247,
          20742.5506298705,
          18612.4358198132,
          18912.7952077885,
          23282.6446235073,
          24171.8831412569,
          15841.0642313286,
          17103.2319259406,
          15606.4596588779,
          16871.3703326087,
          14985.5953301338,
          17584.913699888,
          20461.0338847235,
          20015.1296290027,
          14673.0328739287,
          20642.4867033486,
          16516.680861944,
          18599.4477368496,
          21529.6676463662,
          15631.428623276,
          19510.5479282028,
          20528.551113719,
          21456.8882414963,
          16237.2397640809,
          16425.5223061085,
          20493.9276422572,
          16589.3727281336,
          15395.6558247446,
          19059.8579744349,
          16267.7851128467,
          23199.7777328535,
          18553.9035038778,
          20681.052524655,
          16449.0333250406,
          16772.0847344341,
          18206.9894455926,
          17539.5797268965,
          19333.3250077482,
          18328.8357162891,
          18601.63428396,
          18786.5290538359,
          22734.6225608009,
          16399.1461768656,
          26794.5546415275,
          20860.1843006465,
          20473.4733299114,
          23148.989120784,
          15176.7010416524,
          20384.1867670937,
          21337.2083606485,
          13105.6182757873,
          17801.4030562603,
          17566.4596303356,
          20296.4242839313,
          20653.9256396446,
          23076.4893229813,
          17530.6162885076,
          20600.8722894197,
          14280.7357765424,
          22822.8632766585,
          20538.2850197415,
          15921.9935606873,
          13055.3900905175,
          12186.2546475308,
          10481.9283156701,
          19298.5540048876,
          14261.2510200615,
          16842.3430808527,
          14511.6645944729,
          15062.8705413811,
          16589.7229357574,
          17661.6751741694,
          20412.134340509,
          17430.3802655287,
          19274.9370933858,
          17821.0799514435,
          16592.5631946077,
          18019.0308826641,
          16314.4485851195,
          23784.8547678863,
          13548.9651801738,
          17694.9140026717,
          19689.7753241634,
          17242.4691294596,
          18819.8289377656,
          15031.8190044761,
          15207.8556553496,
          20039.8764274305,
          22590.77097494,
          19636.198409589,
          21618.0927290372,
          13375.9187833231,
          18758.0791984799,
          17497.0244681715,
          17107.6614290347,
          14076.1968923036,
          14994.1795340956,
          18920.4110831609,
          13044.3917090992,
          23182.0832864617,
          12530.762724767,
          23492.4830976272,
          17164.3967698272,
          16609.9576593339,
          10777.8137268763,
          14445.4625280067,
          17308.5754280586,
          18768.7546584435,
          16698.8925762663,
          19298.2935554078,
          24439.4809802147,
          20112.8490160169,
          20180.7540654078,
          15629.112354958,
          18232.8919487229,
          24761.697327923,
          27313.3086293301,
          26054.7668796275,
          30273.2789595136,
          30503.657942327,
          22888.0728190377,
          29116.9375104412,
          20769.8903332664,
          15655.7610909961,
          21687.590321563,
          19974.4763505072,
          24536.100273698,
          22663.0796333791,
          30379.3582494615,
          23427.9038336045,
          18635.4887595301,
          15668.913199913,
          20120.6891312811,
          29719.0812418587,
          24236.2165541917,
          29082.096185555,
          25964.3991510318,
          18849.3093181535,
          23877.5145381077,
          20781.0212974085,
          37371.1843295463,
          18202.864399319,
          17349.1654585641,
          22870.3007548228,
          19266.4044293619,
          16386.6405272939,
          18796.7970480192,
          18441.0859070676,
          18951.0909328626,
          20540.223699084,
          23769.8736610362,
          19548.8255885288,
          17375.1860857421,
          20291.5878509383,
          18822.8562489984,
          17526.1001488543,
          23588.7631404343,
          17269.1130758413,
          20272.7343422086,
          15670.0260977231,
          22373.3573752914,
          16327.461281108,
          19732.8863372801,
          20079.1016561259,
          19067.8209364629,
          21829.7974444712,
          10053.6900440058,
          16641.139718029,
          16144.9155086277,
          18811.2160685124,
          18240.6273366418,
          19582.2440666002,
          18477.1683473822,
          24235.6212779327,
          19538.6166123472,
          15706.1445261433,
          23120.7768978837,
          16688.9796169359,
          17500.4289383945,
          16523.5398617891,
          17215.1747866199,
          17773.6437758434,
          26619.1251472142,
          19675.2151251637,
          10310.6176662066,
          15810.8465063245,
          20297.698300095,
          19937.8080873411,
          17536.7376172625,
          17536.1249979448,
          19434.0208342298,
          18304.4580889175,
          15799.9110807445,
          18134.4392391839,
          14056.6844145987,
          21810.7565828344,
          17635.1384662696,
          19113.7239168934,
          23507.5914095557,
          17067.0243982338,
          23334.9229033177,
          18018.2770743839,
          18338.3280165859,
          17657.1660118203,
          22264.5550597535,
          19695.9161204923,
          17188.4190764231,
          20519.7575163569,
          18339.449215513,
          16266.5669184681,
          20645.4148529798,
          18089.6620074917,
          21734.928564837,
          13609.9596487581,
          21604.6959477093,
          20417.7510202849,
          11708.6092858021,
          17946.0178229771,
          20811.5210619376,
          22905.4821541219,
          16814.1237654438,
          17485.1562113601,
          19246.9602801849,
          23333.3170241994,
          21380.2166526624,
          18667.7048220364,
          20822.2676230721,
          19071.2969209829,
          23400.5200038197,
          21574.2039164231,
          22361.3703433798,
          20372.9959781874,
          20515.0258374227,
          16020.3139818506,
          21788.3669868448,
          16162.5400276105,
          19884.5407358027,
          15235.8966099304,
          19079.9276196016,
          21138.2879456003,
          19528.8404365136,
          18966.3377387655,
          19624.8366322119,
          19822.5777362085,
          15860.9488989388,
          23954.4744937504,
          19037.4667408531,
          17780.4224879901,
          25515.0499893353,
          28683.8801035159,
          16581.5458845493,
          18529.3014451374,
          21177.6683616037,
          22215.8331292288,
          23739.3841307959,
          26074.2473793676,
          25383.3687093698,
          28728.5743565319,
          33673.7355462054,
          27852.3722122555,
          25550.8927716575,
          21994.403843758,
          19055.8752103378,
          15559.324387283,
          23216.8100948775,
          20656.7748607155,
          20603.6374915882,
          19031.7979220889,
          20382.2278154709,
          20434.3225344935,
          22997.5244417991,
          21659.9148042585,
          16173.4539910938,
          15737.8394547903,
          16988.2463478805,
          26033.0872496238,
          18799.7617996091,
          22260.3789035562,
          16588.056322946,
          27200.7567989066,
          19936.6705114299,
          23820.2918174017,
          18384.8002693775,
          20086.8610907678,
          24438.9436338479,
          20553.4412167598,
          23201.2984051311,
          21390.0548745903,
          21770.2744084888,
          21700.8287984331,
          17717.4820103588,
          24041.4865216001,
          17624.102673399,
          17967.3515731403,
          15023.6385249346,
          18214.283687374,
          20314.4535504372,
          18364.4258662543,
          17147.8915131321,
          24267.8548479802,
          36342.0686234762,
          32381.4629268503,
          34127.2603143751,
          25454.7537342419,
          22921.0052647361,
          20013.4735436258,
          21984.6989360514,
          21691.8247415485,
          22570.8027727856,
          19701.3500985145,
          22031.741416132,
          20691.1529148445,
          16147.9676424574,
          29025.6352133219,
          24507.3026259694,
          23766.9835162908,
          16525.8983706856,
          27231.4683402913,
          21190.7234892847,
          17086.3145220832,
          23169.6555666882,
          26044.7742808992,
          23302.076840328,
          18780.6805314206,
          24698.3291407485,
          21084.0476517066,
          14456.180510483,
          19758.9597190781,
          15332.3543566852,
          24695.6697529151,
          19261.3927391226,
          17341.9732174462,
          23595.4493932489,
          21618.7244080514,
          27601.2806592803,
          19095.4289915175,
          23344.6610485318,
          21395.5231023031,
          20169.4394609061,
          17012.8800775208,
          20023.5049574748,
          25893.0106409925,
          17099.7270630884,
          18436.8034297718,
          18498.1112996435,
          19828.8253590453,
          23381.725736759,
          35316.1481870598,
          24501.0554857736,
          32400.5106830128,
          36516.4626375383,
          20811.6301920418,
          22480.4484578921,
          20879.746189477,
          25801.9994558011,
          28834.9032722909,
          21063.6388469655,
          27010.5512374799,
          20781.8862156909,
          24941.9533034709,
          21932.1937748045,
          16637.9984919142,
          19729.9803064619,
          20471.3266209448,
          17570.3873435018,
          28680.5546554761,
          21957.1058085812,
          19528.9605011483,
          21424.3501083649,
          21152.3066170442,
          19841.3108651233,
          21383.0488230133,
          21526.7012379253,
          22277.910630949,
          26675.5215111825,
          26359.5056231031,
          38552.8671348612,
          31074.357044573,
          28306.7129369874,
          29349.4518184641,
          33339.5115051536,
          30306.6823160401,
          22910.6419272569,
          38046.2202207431,
          34665.4312936586,
          30510.4677444758,
          31939.4462700204,
          27170.2218224814,
          42852.9131236737,
          29737.7971047858,
          33680.9664598859,
          30204.3872258494,
          31896.2124411532,
          40730.8457151582,
          37448.9740821053,
          21560.6339473554,
          38766.7978885953,
          28460.7856188569,
          41549.3386997536,
          39672.0945891386,
          26681.0289915561,
          34632.8393773803,
          30318.8900238696,
          33727.1094639049,
          37996.2109532273,
          31079.7912242883,
          27626.277601412,
          39264.8353599115,
          27267.8999872075,
          39658.353961501,
          39336.2366003649,
          31037.2364974732,
          28221.0224014408,
          38174.6760499865,
          29603.67539955,
          35593.7351484004,
          33702.4831495045,
          33337.4659314137,
          37301.5348752407,
          36087.2665879315,
          41085.7083602546,
          40249.0483598171,
          40781.711523994,
          55595.7849821221,
          33747.3988967434,
          40451.3827365844,
          30581.8874344567,
          44562.2161430847,
          37902.6145684931,
          37767.3401957254,
          29293.3915273572,
          35836.392863709,
          38435.0638402936,
          33570.8854591971,
          27855.2023845438,
          22588.9110121171,
          35648.8565053055,
          25668.0331379889,
          34602.7478541538,
          32654.305350671,
          35073.0798588068,
          25813.3030026492,
          33155.7839700311,
          23553.4320055347,
          34390.5995617306,
          32313.709119496,
          40669.6789060836,
          36775.8159588478,
          28756.0694770026,
          37335.4514483548,
          54398.8464980723,
          45219.0609745122,
          28000.6183902733,
          42029.2640456467,
          34712.8180716074,
          46059.9155694161,
          39071.5257156656,
          27619.4968562972,
          43815.1108430112,
          44541.343328621,
          53416.1934971442,
          31000.9124288914,
          40422.8211784961,
          39989.5998604369,
          33138.8399554925,
          42880.7785864394,
          42076.8951898264,
          29532.6919860175,
          25876.0493790296,
          28012.3275083732,
          27711.2507987408,
          39464.1346236445,
          32078.2909164494,
          29761.8819542835,
          31961.1969403948,
          33318.1975515855,
          36559.3788253312,
          26377.2305528954,
          30545.3419603769,
          37772.2251669161,
          26935.1385709095,
          32927.8590982708,
          25768.9585534881,
          42859.0137624464,
          33043.181450563,
          33034.9115089291,
          35525.4912051164,
          35479.0773318916,
          35122.8779012205,
          38172.2788736102,
          29219.1902573608,
          34476.4550181704,
          29123.463578028,
          41428.0617579233,
          28504.541809638,
          34615.5052363787,
          45526.2426975243,
          34530.0667135799,
          41961.4943306259,
          53448.5142514769,
          36050.9712057363,
          39767.0553011198,
          37981.6630705766,
          37585.7542449289,
          43181.7118937749,
          37264.3553032617,
          46886.3031952289,
          33699.3127534777,
          40865.9338511577,
          38981.0408974366,
          42855.0864812801,
          36413.4311375766,
          37885.9743032144,
          28454.5569477253,
          28217.4853828302,
          23137.7710739328,
          36663.6544625506,
          33870.4149222663,
          46655.8027720247,
          41030.0889561266,
          61417.8200821192,
          48610.9216977681,
          34537.7948725439,
          40839.912502347,
          40568.3735059241,
          38380.4350713677,
          39359.4891170517,
          46724.3051204637,
          34919.9121224378,
          28075.6910639075,
          41123.1646579458,
          26964.88286636,
          33604.4649394343,
          35400.9328998876,
          31547.4270561858,
          31364.8705692442,
          41036.5684572546,
          29967.611818952,
          39036.9694163409,
          34411.0630499429,
          44960.9789778597,
          35676.0607278962,
          60534.6422201256,
          35833.038955291,
          67042.2897363956,
          37470.0262193514,
          57775.0106085803,
          37372.1224685764,
          44367.2296156681,
          40644.3894656859,
          50603.6203701962,
          59311.2736091694,
          43185.3987677131,
          51822.8836920871,
          29850.2185377326,
          33377.7315607018,
          46014.7432353877,
          28799.8795442042,
          34608.3365739777,
          31552.8463387382,
          37363.0985593767,
          33932.2376718042,
          42788.6963716111,
          37865.0358795913,
          38659.983311347,
          49243.8202617034,
          41727.7898571948,
          26086.9280913443,
          36162.6064839277,
          48821.0279528105,
          40332.9425173004,
          39788.9389691397,
          44247.6873825982,
          40740.7309346646,
          37110.0301561201,
          37730.4480529646,
          40126.1340424987,
          36206.6020298824,
          39547.8310364902,
          36733.2578473119,
          37556.0246872826,
          35658.3750590227,
          40879.2988868946,
          48086.4527757309,
          55106.1264833857,
          51244.1003021072,
          52015.0533405799,
          55303.1683280019,
          58809.6705127005,
          53841.8937247557,
          51580.4270884608,
          41561.0283710516,
          36470.7191919587,
          41916.7849921181,
          41615.48883447,
          64786.7621726638,
          72475.6175868143,
          88926.9257265737,
          68162.3971872179,
          68030.7889529713,
          79346.6503093619,
          52631.7087045183,
          92339.8661122788,
          69615.3968334015,
          70054.0432881435,
          47705.6850950493,
          51135.1332858882,
          56861.4805711154,
          84827.1129635471,
          61676.6400511599,
          71907.9029140795,
          63564.0328935572,
          63530.6619385683,
          78734.2189681917,
          65806.4642461659,
          87732.220958787,
          71336.1969277914,
          68407.4796740896,
          76253.6398545033,
          77833.9611262087,
          68571.0818801603,
          90471.66169312,
          67327.9705542446,
          76970.1776838718,
          57300.5182138264,
          71174.5207586514,
          75432.0506935995,
          65823.747376142,
          77144.0954798978,
          67252.6109635539,
          75301.6107377282,
          72615.713360257,
          61371.9707764351,
          69921.6904899986,
          43983.6227603812,
          59527.1172871093,
          60511.7708621265,
          105000.161022244,
          75886.8535230202,
          72343.5676339006,
          76804.0001242994,
          70478.1148194114,
          54291.3143929578,
          71452.8041144318,
          58713.1556390456,
          95190.9337857379,
          74334.51132824,
          72258.5663428077,
          82264.9292648661,
          72771.7828417357,
          95926.8636337561,
          73071.1484528628,
          93207.770399992,
          86796.1915421402,
          86932.934616975,
          67695.9750227441,
          61424.4712743026,
          63347.2765022854,
          55181.7429203675,
          52636.4649335331,
          70530.7161294785,
          56629.3701670233,
          91471.4440592082,
          88404.9090279259,
          83127.1297609546,
          87529.1301628585,
          71405.0348249371,
          93454.4618260646,
          64022.5096964805,
          92599.8279668307,
          105816.077296433,
          99485.6091404779,
          88099.8958226989,
          92774.9382527382,
          83929.9530741672,
          106651.386828233,
          92438.6931574293,
          102490.224680671,
          95065.1415415323,
          98274.5738629887,
          95537.1675556354,
          82159.5041366972,
          93057.320743726,
          125975.145017916,
          105241.525249105,
          106010.712041304,
          119966.910457154,
          75899.7298881941,
          116160.638540902,
          83113.3062037114,
          103927.811407216,
          87259.3971518915,
          87460.9288643031,
          88483.0726818813,
          101793.704692554,
          94851.3609224864,
          62859.913128511,
          78346.5220384479,
          114028.524399557,
          98917.856687032,
          108473.609660933,
          88855.5754502847,
          146582.436871206,
          81859.7608131388,
          87584.0428617362,
          81476.5381290733,
          92752.6185077363,
          107242.832009256,
          90337.4194605267,
          77790.5113312019,
          105132.461958506,
          112675.704253591,
          139026.005604322,
          117627.30018755,
          81376.7361396191,
          107662.828727667,
          82119.900937039,
          89087.1536175002,
          173657.824668349,
          161574.001810598,
          157692.190601741,
          173722.629263068,
          180096.858031099,
          172126.125344534,
          179087.753007872,
          189935.008121352,
          137380.697814546,
          174450.404554097,
          299569.770145273,
          284943.866062569,
          272902.960613374,
          185101.417872357,
          257458.856474436,
          336716.420304206
         ],
         "y0": " ",
         "yaxis": "y"
        }
       ],
       "layout": {
        "boxmode": "group",
        "legend": {
         "tracegroupgap": 0
        },
        "margin": {
         "t": 60
        },
        "template": {
         "data": {
          "bar": [
           {
            "error_x": {
             "color": "#2a3f5f"
            },
            "error_y": {
             "color": "#2a3f5f"
            },
            "marker": {
             "line": {
              "color": "#E5ECF6",
              "width": 0.5
             },
             "pattern": {
              "fillmode": "overlay",
              "size": 10,
              "solidity": 0.2
             }
            },
            "type": "bar"
           }
          ],
          "barpolar": [
           {
            "marker": {
             "line": {
              "color": "#E5ECF6",
              "width": 0.5
             },
             "pattern": {
              "fillmode": "overlay",
              "size": 10,
              "solidity": 0.2
             }
            },
            "type": "barpolar"
           }
          ],
          "carpet": [
           {
            "aaxis": {
             "endlinecolor": "#2a3f5f",
             "gridcolor": "white",
             "linecolor": "white",
             "minorgridcolor": "white",
             "startlinecolor": "#2a3f5f"
            },
            "baxis": {
             "endlinecolor": "#2a3f5f",
             "gridcolor": "white",
             "linecolor": "white",
             "minorgridcolor": "white",
             "startlinecolor": "#2a3f5f"
            },
            "type": "carpet"
           }
          ],
          "choropleth": [
           {
            "colorbar": {
             "outlinewidth": 0,
             "ticks": ""
            },
            "type": "choropleth"
           }
          ],
          "contour": [
           {
            "colorbar": {
             "outlinewidth": 0,
             "ticks": ""
            },
            "colorscale": [
             [
              0,
              "#0d0887"
             ],
             [
              0.1111111111111111,
              "#46039f"
             ],
             [
              0.2222222222222222,
              "#7201a8"
             ],
             [
              0.3333333333333333,
              "#9c179e"
             ],
             [
              0.4444444444444444,
              "#bd3786"
             ],
             [
              0.5555555555555556,
              "#d8576b"
             ],
             [
              0.6666666666666666,
              "#ed7953"
             ],
             [
              0.7777777777777778,
              "#fb9f3a"
             ],
             [
              0.8888888888888888,
              "#fdca26"
             ],
             [
              1,
              "#f0f921"
             ]
            ],
            "type": "contour"
           }
          ],
          "contourcarpet": [
           {
            "colorbar": {
             "outlinewidth": 0,
             "ticks": ""
            },
            "type": "contourcarpet"
           }
          ],
          "heatmap": [
           {
            "colorbar": {
             "outlinewidth": 0,
             "ticks": ""
            },
            "colorscale": [
             [
              0,
              "#0d0887"
             ],
             [
              0.1111111111111111,
              "#46039f"
             ],
             [
              0.2222222222222222,
              "#7201a8"
             ],
             [
              0.3333333333333333,
              "#9c179e"
             ],
             [
              0.4444444444444444,
              "#bd3786"
             ],
             [
              0.5555555555555556,
              "#d8576b"
             ],
             [
              0.6666666666666666,
              "#ed7953"
             ],
             [
              0.7777777777777778,
              "#fb9f3a"
             ],
             [
              0.8888888888888888,
              "#fdca26"
             ],
             [
              1,
              "#f0f921"
             ]
            ],
            "type": "heatmap"
           }
          ],
          "heatmapgl": [
           {
            "colorbar": {
             "outlinewidth": 0,
             "ticks": ""
            },
            "colorscale": [
             [
              0,
              "#0d0887"
             ],
             [
              0.1111111111111111,
              "#46039f"
             ],
             [
              0.2222222222222222,
              "#7201a8"
             ],
             [
              0.3333333333333333,
              "#9c179e"
             ],
             [
              0.4444444444444444,
              "#bd3786"
             ],
             [
              0.5555555555555556,
              "#d8576b"
             ],
             [
              0.6666666666666666,
              "#ed7953"
             ],
             [
              0.7777777777777778,
              "#fb9f3a"
             ],
             [
              0.8888888888888888,
              "#fdca26"
             ],
             [
              1,
              "#f0f921"
             ]
            ],
            "type": "heatmapgl"
           }
          ],
          "histogram": [
           {
            "marker": {
             "pattern": {
              "fillmode": "overlay",
              "size": 10,
              "solidity": 0.2
             }
            },
            "type": "histogram"
           }
          ],
          "histogram2d": [
           {
            "colorbar": {
             "outlinewidth": 0,
             "ticks": ""
            },
            "colorscale": [
             [
              0,
              "#0d0887"
             ],
             [
              0.1111111111111111,
              "#46039f"
             ],
             [
              0.2222222222222222,
              "#7201a8"
             ],
             [
              0.3333333333333333,
              "#9c179e"
             ],
             [
              0.4444444444444444,
              "#bd3786"
             ],
             [
              0.5555555555555556,
              "#d8576b"
             ],
             [
              0.6666666666666666,
              "#ed7953"
             ],
             [
              0.7777777777777778,
              "#fb9f3a"
             ],
             [
              0.8888888888888888,
              "#fdca26"
             ],
             [
              1,
              "#f0f921"
             ]
            ],
            "type": "histogram2d"
           }
          ],
          "histogram2dcontour": [
           {
            "colorbar": {
             "outlinewidth": 0,
             "ticks": ""
            },
            "colorscale": [
             [
              0,
              "#0d0887"
             ],
             [
              0.1111111111111111,
              "#46039f"
             ],
             [
              0.2222222222222222,
              "#7201a8"
             ],
             [
              0.3333333333333333,
              "#9c179e"
             ],
             [
              0.4444444444444444,
              "#bd3786"
             ],
             [
              0.5555555555555556,
              "#d8576b"
             ],
             [
              0.6666666666666666,
              "#ed7953"
             ],
             [
              0.7777777777777778,
              "#fb9f3a"
             ],
             [
              0.8888888888888888,
              "#fdca26"
             ],
             [
              1,
              "#f0f921"
             ]
            ],
            "type": "histogram2dcontour"
           }
          ],
          "mesh3d": [
           {
            "colorbar": {
             "outlinewidth": 0,
             "ticks": ""
            },
            "type": "mesh3d"
           }
          ],
          "parcoords": [
           {
            "line": {
             "colorbar": {
              "outlinewidth": 0,
              "ticks": ""
             }
            },
            "type": "parcoords"
           }
          ],
          "pie": [
           {
            "automargin": true,
            "type": "pie"
           }
          ],
          "scatter": [
           {
            "fillpattern": {
             "fillmode": "overlay",
             "size": 10,
             "solidity": 0.2
            },
            "type": "scatter"
           }
          ],
          "scatter3d": [
           {
            "line": {
             "colorbar": {
              "outlinewidth": 0,
              "ticks": ""
             }
            },
            "marker": {
             "colorbar": {
              "outlinewidth": 0,
              "ticks": ""
             }
            },
            "type": "scatter3d"
           }
          ],
          "scattercarpet": [
           {
            "marker": {
             "colorbar": {
              "outlinewidth": 0,
              "ticks": ""
             }
            },
            "type": "scattercarpet"
           }
          ],
          "scattergeo": [
           {
            "marker": {
             "colorbar": {
              "outlinewidth": 0,
              "ticks": ""
             }
            },
            "type": "scattergeo"
           }
          ],
          "scattergl": [
           {
            "marker": {
             "colorbar": {
              "outlinewidth": 0,
              "ticks": ""
             }
            },
            "type": "scattergl"
           }
          ],
          "scattermapbox": [
           {
            "marker": {
             "colorbar": {
              "outlinewidth": 0,
              "ticks": ""
             }
            },
            "type": "scattermapbox"
           }
          ],
          "scatterpolar": [
           {
            "marker": {
             "colorbar": {
              "outlinewidth": 0,
              "ticks": ""
             }
            },
            "type": "scatterpolar"
           }
          ],
          "scatterpolargl": [
           {
            "marker": {
             "colorbar": {
              "outlinewidth": 0,
              "ticks": ""
             }
            },
            "type": "scatterpolargl"
           }
          ],
          "scatterternary": [
           {
            "marker": {
             "colorbar": {
              "outlinewidth": 0,
              "ticks": ""
             }
            },
            "type": "scatterternary"
           }
          ],
          "surface": [
           {
            "colorbar": {
             "outlinewidth": 0,
             "ticks": ""
            },
            "colorscale": [
             [
              0,
              "#0d0887"
             ],
             [
              0.1111111111111111,
              "#46039f"
             ],
             [
              0.2222222222222222,
              "#7201a8"
             ],
             [
              0.3333333333333333,
              "#9c179e"
             ],
             [
              0.4444444444444444,
              "#bd3786"
             ],
             [
              0.5555555555555556,
              "#d8576b"
             ],
             [
              0.6666666666666666,
              "#ed7953"
             ],
             [
              0.7777777777777778,
              "#fb9f3a"
             ],
             [
              0.8888888888888888,
              "#fdca26"
             ],
             [
              1,
              "#f0f921"
             ]
            ],
            "type": "surface"
           }
          ],
          "table": [
           {
            "cells": {
             "fill": {
              "color": "#EBF0F8"
             },
             "line": {
              "color": "white"
             }
            },
            "header": {
             "fill": {
              "color": "#C8D4E3"
             },
             "line": {
              "color": "white"
             }
            },
            "type": "table"
           }
          ]
         },
         "layout": {
          "annotationdefaults": {
           "arrowcolor": "#2a3f5f",
           "arrowhead": 0,
           "arrowwidth": 1
          },
          "autotypenumbers": "strict",
          "coloraxis": {
           "colorbar": {
            "outlinewidth": 0,
            "ticks": ""
           }
          },
          "colorscale": {
           "diverging": [
            [
             0,
             "#8e0152"
            ],
            [
             0.1,
             "#c51b7d"
            ],
            [
             0.2,
             "#de77ae"
            ],
            [
             0.3,
             "#f1b6da"
            ],
            [
             0.4,
             "#fde0ef"
            ],
            [
             0.5,
             "#f7f7f7"
            ],
            [
             0.6,
             "#e6f5d0"
            ],
            [
             0.7,
             "#b8e186"
            ],
            [
             0.8,
             "#7fbc41"
            ],
            [
             0.9,
             "#4d9221"
            ],
            [
             1,
             "#276419"
            ]
           ],
           "sequential": [
            [
             0,
             "#0d0887"
            ],
            [
             0.1111111111111111,
             "#46039f"
            ],
            [
             0.2222222222222222,
             "#7201a8"
            ],
            [
             0.3333333333333333,
             "#9c179e"
            ],
            [
             0.4444444444444444,
             "#bd3786"
            ],
            [
             0.5555555555555556,
             "#d8576b"
            ],
            [
             0.6666666666666666,
             "#ed7953"
            ],
            [
             0.7777777777777778,
             "#fb9f3a"
            ],
            [
             0.8888888888888888,
             "#fdca26"
            ],
            [
             1,
             "#f0f921"
            ]
           ],
           "sequentialminus": [
            [
             0,
             "#0d0887"
            ],
            [
             0.1111111111111111,
             "#46039f"
            ],
            [
             0.2222222222222222,
             "#7201a8"
            ],
            [
             0.3333333333333333,
             "#9c179e"
            ],
            [
             0.4444444444444444,
             "#bd3786"
            ],
            [
             0.5555555555555556,
             "#d8576b"
            ],
            [
             0.6666666666666666,
             "#ed7953"
            ],
            [
             0.7777777777777778,
             "#fb9f3a"
            ],
            [
             0.8888888888888888,
             "#fdca26"
            ],
            [
             1,
             "#f0f921"
            ]
           ]
          },
          "colorway": [
           "#636efa",
           "#EF553B",
           "#00cc96",
           "#ab63fa",
           "#FFA15A",
           "#19d3f3",
           "#FF6692",
           "#B6E880",
           "#FF97FF",
           "#FECB52"
          ],
          "font": {
           "color": "#2a3f5f"
          },
          "geo": {
           "bgcolor": "white",
           "lakecolor": "white",
           "landcolor": "#E5ECF6",
           "showlakes": true,
           "showland": true,
           "subunitcolor": "white"
          },
          "hoverlabel": {
           "align": "left"
          },
          "hovermode": "closest",
          "mapbox": {
           "style": "light"
          },
          "paper_bgcolor": "white",
          "plot_bgcolor": "#E5ECF6",
          "polar": {
           "angularaxis": {
            "gridcolor": "white",
            "linecolor": "white",
            "ticks": ""
           },
           "bgcolor": "#E5ECF6",
           "radialaxis": {
            "gridcolor": "white",
            "linecolor": "white",
            "ticks": ""
           }
          },
          "scene": {
           "xaxis": {
            "backgroundcolor": "#E5ECF6",
            "gridcolor": "white",
            "gridwidth": 2,
            "linecolor": "white",
            "showbackground": true,
            "ticks": "",
            "zerolinecolor": "white"
           },
           "yaxis": {
            "backgroundcolor": "#E5ECF6",
            "gridcolor": "white",
            "gridwidth": 2,
            "linecolor": "white",
            "showbackground": true,
            "ticks": "",
            "zerolinecolor": "white"
           },
           "zaxis": {
            "backgroundcolor": "#E5ECF6",
            "gridcolor": "white",
            "gridwidth": 2,
            "linecolor": "white",
            "showbackground": true,
            "ticks": "",
            "zerolinecolor": "white"
           }
          },
          "shapedefaults": {
           "line": {
            "color": "#2a3f5f"
           }
          },
          "ternary": {
           "aaxis": {
            "gridcolor": "white",
            "linecolor": "white",
            "ticks": ""
           },
           "baxis": {
            "gridcolor": "white",
            "linecolor": "white",
            "ticks": ""
           },
           "bgcolor": "#E5ECF6",
           "caxis": {
            "gridcolor": "white",
            "linecolor": "white",
            "ticks": ""
           }
          },
          "title": {
           "x": 0.05
          },
          "xaxis": {
           "automargin": true,
           "gridcolor": "white",
           "linecolor": "white",
           "ticks": "",
           "title": {
            "standoff": 15
           },
           "zerolinecolor": "white",
           "zerolinewidth": 2
          },
          "yaxis": {
           "automargin": true,
           "gridcolor": "white",
           "linecolor": "white",
           "ticks": "",
           "title": {
            "standoff": 15
           },
           "zerolinecolor": "white",
           "zerolinewidth": 2
          }
         }
        },
        "xaxis": {
         "anchor": "y",
         "domain": [
          0,
          1
         ],
         "title": {
          "text": "gender"
         }
        },
        "yaxis": {
         "anchor": "x",
         "domain": [
          0,
          1
         ],
         "title": {
          "text": "annual_salary"
         }
        }
       }
      }
     },
     "metadata": {},
     "output_type": "display_data"
    }
   ],
   "source": [
    "fig= px.box(df,x='gender',y='annual_salary')\n",
    "fig.show()"
   ]
  },
  {
   "cell_type": "code",
   "execution_count": 86,
   "metadata": {},
   "outputs": [
    {
     "data": {
      "text/html": [
       "<div>\n",
       "<style scoped>\n",
       "    .dataframe tbody tr th:only-of-type {\n",
       "        vertical-align: middle;\n",
       "    }\n",
       "\n",
       "    .dataframe tbody tr th {\n",
       "        vertical-align: top;\n",
       "    }\n",
       "\n",
       "    .dataframe thead th {\n",
       "        text-align: right;\n",
       "    }\n",
       "</style>\n",
       "<table border=\"1\" class=\"dataframe\">\n",
       "  <thead>\n",
       "    <tr style=\"text-align: right;\">\n",
       "      <th></th>\n",
       "      <th>salary_bands</th>\n",
       "      <th>gender</th>\n",
       "      <th>avg_salary</th>\n",
       "      <th>total_employee</th>\n",
       "    </tr>\n",
       "  </thead>\n",
       "  <tbody>\n",
       "    <tr>\n",
       "      <th>0</th>\n",
       "      <td>Band 1</td>\n",
       "      <td>Female</td>\n",
       "      <td>21.534373</td>\n",
       "      <td>67</td>\n",
       "    </tr>\n",
       "    <tr>\n",
       "      <th>1</th>\n",
       "      <td>Band 1</td>\n",
       "      <td>Male</td>\n",
       "      <td>19.645020</td>\n",
       "      <td>541</td>\n",
       "    </tr>\n",
       "    <tr>\n",
       "      <th>2</th>\n",
       "      <td>Band 2</td>\n",
       "      <td>Female</td>\n",
       "      <td>40.247701</td>\n",
       "      <td>67</td>\n",
       "    </tr>\n",
       "    <tr>\n",
       "      <th>3</th>\n",
       "      <td>Band 2</td>\n",
       "      <td>Male</td>\n",
       "      <td>37.591046</td>\n",
       "      <td>216</td>\n",
       "    </tr>\n",
       "    <tr>\n",
       "      <th>4</th>\n",
       "      <td>Band 3</td>\n",
       "      <td>Female</td>\n",
       "      <td>74.321682</td>\n",
       "      <td>44</td>\n",
       "    </tr>\n",
       "    <tr>\n",
       "      <th>5</th>\n",
       "      <td>Band 3</td>\n",
       "      <td>Male</td>\n",
       "      <td>72.968040</td>\n",
       "      <td>75</td>\n",
       "    </tr>\n",
       "    <tr>\n",
       "      <th>6</th>\n",
       "      <td>Band 4</td>\n",
       "      <td>Female</td>\n",
       "      <td>99.754647</td>\n",
       "      <td>17</td>\n",
       "    </tr>\n",
       "    <tr>\n",
       "      <th>7</th>\n",
       "      <td>Band 4</td>\n",
       "      <td>Male</td>\n",
       "      <td>97.402745</td>\n",
       "      <td>47</td>\n",
       "    </tr>\n",
       "    <tr>\n",
       "      <th>8</th>\n",
       "      <td>Band 5</td>\n",
       "      <td>Female</td>\n",
       "      <td>151.488300</td>\n",
       "      <td>10</td>\n",
       "    </tr>\n",
       "    <tr>\n",
       "      <th>9</th>\n",
       "      <td>Band 5</td>\n",
       "      <td>Male</td>\n",
       "      <td>169.972400</td>\n",
       "      <td>10</td>\n",
       "    </tr>\n",
       "    <tr>\n",
       "      <th>10</th>\n",
       "      <td>Band 6</td>\n",
       "      <td>Female</td>\n",
       "      <td>242.435000</td>\n",
       "      <td>2</td>\n",
       "    </tr>\n",
       "    <tr>\n",
       "      <th>11</th>\n",
       "      <td>Band 6</td>\n",
       "      <td>Male</td>\n",
       "      <td>272.782167</td>\n",
       "      <td>6</td>\n",
       "    </tr>\n",
       "  </tbody>\n",
       "</table>\n",
       "</div>"
      ],
      "text/plain": [
       "   salary_bands  gender  avg_salary  total_employee\n",
       "0        Band 1  Female   21.534373              67\n",
       "1        Band 1    Male   19.645020             541\n",
       "2        Band 2  Female   40.247701              67\n",
       "3        Band 2    Male   37.591046             216\n",
       "4        Band 3  Female   74.321682              44\n",
       "5        Band 3    Male   72.968040              75\n",
       "6        Band 4  Female   99.754647              17\n",
       "7        Band 4    Male   97.402745              47\n",
       "8        Band 5  Female  151.488300              10\n",
       "9        Band 5    Male  169.972400              10\n",
       "10       Band 6  Female  242.435000               2\n",
       "11       Band 6    Male  272.782167               6"
      ]
     },
     "execution_count": 86,
     "metadata": {},
     "output_type": "execute_result"
    }
   ],
   "source": [
    "avg_bands = df.groupby(['salary_bands','gender']).agg({'annual_salary':'mean','employee_id':'count'}).reset_index()\n",
    "avg_bands.columns=['salary_bands','gender','avg_salary','total_employee']\n",
    "avg_bands"
   ]
  },
  {
   "cell_type": "code",
   "execution_count": 94,
   "metadata": {},
   "outputs": [
    {
     "data": {
      "application/vnd.plotly.v1+json": {
       "config": {
        "plotlyServerURL": "https://plot.ly"
       },
       "data": [
        {
         "alignmentgroup": "True",
         "hovertemplate": "gender=Female<br>salary_bands=%{x}<br>Average Salary=%{y}<extra></extra>",
         "legendgroup": "Female",
         "marker": {
          "color": "#636efa",
          "pattern": {
           "shape": ""
          }
         },
         "name": "Female",
         "offsetgroup": "Female",
         "orientation": "v",
         "showlegend": true,
         "textposition": "auto",
         "type": "bar",
         "x": [
          "Band 1",
          "Band 2",
          "Band 3",
          "Band 4",
          "Band 5",
          "Band 6"
         ],
         "xaxis": "x",
         "y": [
          21.53437313432836,
          40.24770149253732,
          74.32168181818182,
          99.75464705882352,
          151.4883,
          242.435
         ],
         "yaxis": "y"
        },
        {
         "alignmentgroup": "True",
         "hovertemplate": "gender=Male<br>salary_bands=%{x}<br>Average Salary=%{y}<extra></extra>",
         "legendgroup": "Male",
         "marker": {
          "color": "#EF553B",
          "pattern": {
           "shape": ""
          }
         },
         "name": "Male",
         "offsetgroup": "Male",
         "orientation": "v",
         "showlegend": true,
         "textposition": "auto",
         "type": "bar",
         "x": [
          "Band 1",
          "Band 2",
          "Band 3",
          "Band 4",
          "Band 5",
          "Band 6"
         ],
         "xaxis": "x",
         "y": [
          19.64502033271719,
          37.5910462962963,
          72.96804,
          97.40274468085107,
          169.9724,
          272.7821666666667
         ],
         "yaxis": "y"
        },
        {
         "mode": "text",
         "showlegend": false,
         "text": [
          "67"
         ],
         "textposition": "top left",
         "type": "scatter",
         "x": [
          "Band 1"
         ],
         "y": [
          21.53437313432836
         ]
        },
        {
         "mode": "text",
         "showlegend": false,
         "text": [
          "541"
         ],
         "textposition": "top left",
         "type": "scatter",
         "x": [
          "Band 1"
         ],
         "y": [
          19.64502033271719
         ]
        },
        {
         "mode": "text",
         "showlegend": false,
         "text": [
          "67"
         ],
         "textposition": "top left",
         "type": "scatter",
         "x": [
          "Band 2"
         ],
         "y": [
          40.24770149253732
         ]
        },
        {
         "mode": "text",
         "showlegend": false,
         "text": [
          "216"
         ],
         "textposition": "top left",
         "type": "scatter",
         "x": [
          "Band 2"
         ],
         "y": [
          37.5910462962963
         ]
        },
        {
         "mode": "text",
         "showlegend": false,
         "text": [
          "44"
         ],
         "textposition": "top left",
         "type": "scatter",
         "x": [
          "Band 3"
         ],
         "y": [
          74.32168181818182
         ]
        },
        {
         "mode": "text",
         "showlegend": false,
         "text": [
          "75"
         ],
         "textposition": "top left",
         "type": "scatter",
         "x": [
          "Band 3"
         ],
         "y": [
          72.96804
         ]
        },
        {
         "mode": "text",
         "showlegend": false,
         "text": [
          "17"
         ],
         "textposition": "top left",
         "type": "scatter",
         "x": [
          "Band 4"
         ],
         "y": [
          99.75464705882352
         ]
        },
        {
         "mode": "text",
         "showlegend": false,
         "text": [
          "47"
         ],
         "textposition": "top left",
         "type": "scatter",
         "x": [
          "Band 4"
         ],
         "y": [
          97.40274468085107
         ]
        },
        {
         "mode": "text",
         "showlegend": false,
         "text": [
          "10"
         ],
         "textposition": "top left",
         "type": "scatter",
         "x": [
          "Band 5"
         ],
         "y": [
          151.4883
         ]
        },
        {
         "mode": "text",
         "showlegend": false,
         "text": [
          "10"
         ],
         "textposition": "top left",
         "type": "scatter",
         "x": [
          "Band 5"
         ],
         "y": [
          169.9724
         ]
        },
        {
         "mode": "text",
         "showlegend": false,
         "text": [
          "2"
         ],
         "textposition": "top left",
         "type": "scatter",
         "x": [
          "Band 6"
         ],
         "y": [
          242.435
         ]
        },
        {
         "mode": "text",
         "showlegend": false,
         "text": [
          "6"
         ],
         "textposition": "top left",
         "type": "scatter",
         "x": [
          "Band 6"
         ],
         "y": [
          272.7821666666667
         ]
        }
       ],
       "layout": {
        "barmode": "group",
        "legend": {
         "title": {
          "text": "gender"
         },
         "tracegroupgap": 0
        },
        "template": {
         "data": {
          "bar": [
           {
            "error_x": {
             "color": "#2a3f5f"
            },
            "error_y": {
             "color": "#2a3f5f"
            },
            "marker": {
             "line": {
              "color": "#E5ECF6",
              "width": 0.5
             },
             "pattern": {
              "fillmode": "overlay",
              "size": 10,
              "solidity": 0.2
             }
            },
            "type": "bar"
           }
          ],
          "barpolar": [
           {
            "marker": {
             "line": {
              "color": "#E5ECF6",
              "width": 0.5
             },
             "pattern": {
              "fillmode": "overlay",
              "size": 10,
              "solidity": 0.2
             }
            },
            "type": "barpolar"
           }
          ],
          "carpet": [
           {
            "aaxis": {
             "endlinecolor": "#2a3f5f",
             "gridcolor": "white",
             "linecolor": "white",
             "minorgridcolor": "white",
             "startlinecolor": "#2a3f5f"
            },
            "baxis": {
             "endlinecolor": "#2a3f5f",
             "gridcolor": "white",
             "linecolor": "white",
             "minorgridcolor": "white",
             "startlinecolor": "#2a3f5f"
            },
            "type": "carpet"
           }
          ],
          "choropleth": [
           {
            "colorbar": {
             "outlinewidth": 0,
             "ticks": ""
            },
            "type": "choropleth"
           }
          ],
          "contour": [
           {
            "colorbar": {
             "outlinewidth": 0,
             "ticks": ""
            },
            "colorscale": [
             [
              0,
              "#0d0887"
             ],
             [
              0.1111111111111111,
              "#46039f"
             ],
             [
              0.2222222222222222,
              "#7201a8"
             ],
             [
              0.3333333333333333,
              "#9c179e"
             ],
             [
              0.4444444444444444,
              "#bd3786"
             ],
             [
              0.5555555555555556,
              "#d8576b"
             ],
             [
              0.6666666666666666,
              "#ed7953"
             ],
             [
              0.7777777777777778,
              "#fb9f3a"
             ],
             [
              0.8888888888888888,
              "#fdca26"
             ],
             [
              1,
              "#f0f921"
             ]
            ],
            "type": "contour"
           }
          ],
          "contourcarpet": [
           {
            "colorbar": {
             "outlinewidth": 0,
             "ticks": ""
            },
            "type": "contourcarpet"
           }
          ],
          "heatmap": [
           {
            "colorbar": {
             "outlinewidth": 0,
             "ticks": ""
            },
            "colorscale": [
             [
              0,
              "#0d0887"
             ],
             [
              0.1111111111111111,
              "#46039f"
             ],
             [
              0.2222222222222222,
              "#7201a8"
             ],
             [
              0.3333333333333333,
              "#9c179e"
             ],
             [
              0.4444444444444444,
              "#bd3786"
             ],
             [
              0.5555555555555556,
              "#d8576b"
             ],
             [
              0.6666666666666666,
              "#ed7953"
             ],
             [
              0.7777777777777778,
              "#fb9f3a"
             ],
             [
              0.8888888888888888,
              "#fdca26"
             ],
             [
              1,
              "#f0f921"
             ]
            ],
            "type": "heatmap"
           }
          ],
          "heatmapgl": [
           {
            "colorbar": {
             "outlinewidth": 0,
             "ticks": ""
            },
            "colorscale": [
             [
              0,
              "#0d0887"
             ],
             [
              0.1111111111111111,
              "#46039f"
             ],
             [
              0.2222222222222222,
              "#7201a8"
             ],
             [
              0.3333333333333333,
              "#9c179e"
             ],
             [
              0.4444444444444444,
              "#bd3786"
             ],
             [
              0.5555555555555556,
              "#d8576b"
             ],
             [
              0.6666666666666666,
              "#ed7953"
             ],
             [
              0.7777777777777778,
              "#fb9f3a"
             ],
             [
              0.8888888888888888,
              "#fdca26"
             ],
             [
              1,
              "#f0f921"
             ]
            ],
            "type": "heatmapgl"
           }
          ],
          "histogram": [
           {
            "marker": {
             "pattern": {
              "fillmode": "overlay",
              "size": 10,
              "solidity": 0.2
             }
            },
            "type": "histogram"
           }
          ],
          "histogram2d": [
           {
            "colorbar": {
             "outlinewidth": 0,
             "ticks": ""
            },
            "colorscale": [
             [
              0,
              "#0d0887"
             ],
             [
              0.1111111111111111,
              "#46039f"
             ],
             [
              0.2222222222222222,
              "#7201a8"
             ],
             [
              0.3333333333333333,
              "#9c179e"
             ],
             [
              0.4444444444444444,
              "#bd3786"
             ],
             [
              0.5555555555555556,
              "#d8576b"
             ],
             [
              0.6666666666666666,
              "#ed7953"
             ],
             [
              0.7777777777777778,
              "#fb9f3a"
             ],
             [
              0.8888888888888888,
              "#fdca26"
             ],
             [
              1,
              "#f0f921"
             ]
            ],
            "type": "histogram2d"
           }
          ],
          "histogram2dcontour": [
           {
            "colorbar": {
             "outlinewidth": 0,
             "ticks": ""
            },
            "colorscale": [
             [
              0,
              "#0d0887"
             ],
             [
              0.1111111111111111,
              "#46039f"
             ],
             [
              0.2222222222222222,
              "#7201a8"
             ],
             [
              0.3333333333333333,
              "#9c179e"
             ],
             [
              0.4444444444444444,
              "#bd3786"
             ],
             [
              0.5555555555555556,
              "#d8576b"
             ],
             [
              0.6666666666666666,
              "#ed7953"
             ],
             [
              0.7777777777777778,
              "#fb9f3a"
             ],
             [
              0.8888888888888888,
              "#fdca26"
             ],
             [
              1,
              "#f0f921"
             ]
            ],
            "type": "histogram2dcontour"
           }
          ],
          "mesh3d": [
           {
            "colorbar": {
             "outlinewidth": 0,
             "ticks": ""
            },
            "type": "mesh3d"
           }
          ],
          "parcoords": [
           {
            "line": {
             "colorbar": {
              "outlinewidth": 0,
              "ticks": ""
             }
            },
            "type": "parcoords"
           }
          ],
          "pie": [
           {
            "automargin": true,
            "type": "pie"
           }
          ],
          "scatter": [
           {
            "fillpattern": {
             "fillmode": "overlay",
             "size": 10,
             "solidity": 0.2
            },
            "type": "scatter"
           }
          ],
          "scatter3d": [
           {
            "line": {
             "colorbar": {
              "outlinewidth": 0,
              "ticks": ""
             }
            },
            "marker": {
             "colorbar": {
              "outlinewidth": 0,
              "ticks": ""
             }
            },
            "type": "scatter3d"
           }
          ],
          "scattercarpet": [
           {
            "marker": {
             "colorbar": {
              "outlinewidth": 0,
              "ticks": ""
             }
            },
            "type": "scattercarpet"
           }
          ],
          "scattergeo": [
           {
            "marker": {
             "colorbar": {
              "outlinewidth": 0,
              "ticks": ""
             }
            },
            "type": "scattergeo"
           }
          ],
          "scattergl": [
           {
            "marker": {
             "colorbar": {
              "outlinewidth": 0,
              "ticks": ""
             }
            },
            "type": "scattergl"
           }
          ],
          "scattermapbox": [
           {
            "marker": {
             "colorbar": {
              "outlinewidth": 0,
              "ticks": ""
             }
            },
            "type": "scattermapbox"
           }
          ],
          "scatterpolar": [
           {
            "marker": {
             "colorbar": {
              "outlinewidth": 0,
              "ticks": ""
             }
            },
            "type": "scatterpolar"
           }
          ],
          "scatterpolargl": [
           {
            "marker": {
             "colorbar": {
              "outlinewidth": 0,
              "ticks": ""
             }
            },
            "type": "scatterpolargl"
           }
          ],
          "scatterternary": [
           {
            "marker": {
             "colorbar": {
              "outlinewidth": 0,
              "ticks": ""
             }
            },
            "type": "scatterternary"
           }
          ],
          "surface": [
           {
            "colorbar": {
             "outlinewidth": 0,
             "ticks": ""
            },
            "colorscale": [
             [
              0,
              "#0d0887"
             ],
             [
              0.1111111111111111,
              "#46039f"
             ],
             [
              0.2222222222222222,
              "#7201a8"
             ],
             [
              0.3333333333333333,
              "#9c179e"
             ],
             [
              0.4444444444444444,
              "#bd3786"
             ],
             [
              0.5555555555555556,
              "#d8576b"
             ],
             [
              0.6666666666666666,
              "#ed7953"
             ],
             [
              0.7777777777777778,
              "#fb9f3a"
             ],
             [
              0.8888888888888888,
              "#fdca26"
             ],
             [
              1,
              "#f0f921"
             ]
            ],
            "type": "surface"
           }
          ],
          "table": [
           {
            "cells": {
             "fill": {
              "color": "#EBF0F8"
             },
             "line": {
              "color": "white"
             }
            },
            "header": {
             "fill": {
              "color": "#C8D4E3"
             },
             "line": {
              "color": "white"
             }
            },
            "type": "table"
           }
          ]
         },
         "layout": {
          "annotationdefaults": {
           "arrowcolor": "#2a3f5f",
           "arrowhead": 0,
           "arrowwidth": 1
          },
          "autotypenumbers": "strict",
          "coloraxis": {
           "colorbar": {
            "outlinewidth": 0,
            "ticks": ""
           }
          },
          "colorscale": {
           "diverging": [
            [
             0,
             "#8e0152"
            ],
            [
             0.1,
             "#c51b7d"
            ],
            [
             0.2,
             "#de77ae"
            ],
            [
             0.3,
             "#f1b6da"
            ],
            [
             0.4,
             "#fde0ef"
            ],
            [
             0.5,
             "#f7f7f7"
            ],
            [
             0.6,
             "#e6f5d0"
            ],
            [
             0.7,
             "#b8e186"
            ],
            [
             0.8,
             "#7fbc41"
            ],
            [
             0.9,
             "#4d9221"
            ],
            [
             1,
             "#276419"
            ]
           ],
           "sequential": [
            [
             0,
             "#0d0887"
            ],
            [
             0.1111111111111111,
             "#46039f"
            ],
            [
             0.2222222222222222,
             "#7201a8"
            ],
            [
             0.3333333333333333,
             "#9c179e"
            ],
            [
             0.4444444444444444,
             "#bd3786"
            ],
            [
             0.5555555555555556,
             "#d8576b"
            ],
            [
             0.6666666666666666,
             "#ed7953"
            ],
            [
             0.7777777777777778,
             "#fb9f3a"
            ],
            [
             0.8888888888888888,
             "#fdca26"
            ],
            [
             1,
             "#f0f921"
            ]
           ],
           "sequentialminus": [
            [
             0,
             "#0d0887"
            ],
            [
             0.1111111111111111,
             "#46039f"
            ],
            [
             0.2222222222222222,
             "#7201a8"
            ],
            [
             0.3333333333333333,
             "#9c179e"
            ],
            [
             0.4444444444444444,
             "#bd3786"
            ],
            [
             0.5555555555555556,
             "#d8576b"
            ],
            [
             0.6666666666666666,
             "#ed7953"
            ],
            [
             0.7777777777777778,
             "#fb9f3a"
            ],
            [
             0.8888888888888888,
             "#fdca26"
            ],
            [
             1,
             "#f0f921"
            ]
           ]
          },
          "colorway": [
           "#636efa",
           "#EF553B",
           "#00cc96",
           "#ab63fa",
           "#FFA15A",
           "#19d3f3",
           "#FF6692",
           "#B6E880",
           "#FF97FF",
           "#FECB52"
          ],
          "font": {
           "color": "#2a3f5f"
          },
          "geo": {
           "bgcolor": "white",
           "lakecolor": "white",
           "landcolor": "#E5ECF6",
           "showlakes": true,
           "showland": true,
           "subunitcolor": "white"
          },
          "hoverlabel": {
           "align": "left"
          },
          "hovermode": "closest",
          "mapbox": {
           "style": "light"
          },
          "paper_bgcolor": "white",
          "plot_bgcolor": "#E5ECF6",
          "polar": {
           "angularaxis": {
            "gridcolor": "white",
            "linecolor": "white",
            "ticks": ""
           },
           "bgcolor": "#E5ECF6",
           "radialaxis": {
            "gridcolor": "white",
            "linecolor": "white",
            "ticks": ""
           }
          },
          "scene": {
           "xaxis": {
            "backgroundcolor": "#E5ECF6",
            "gridcolor": "white",
            "gridwidth": 2,
            "linecolor": "white",
            "showbackground": true,
            "ticks": "",
            "zerolinecolor": "white"
           },
           "yaxis": {
            "backgroundcolor": "#E5ECF6",
            "gridcolor": "white",
            "gridwidth": 2,
            "linecolor": "white",
            "showbackground": true,
            "ticks": "",
            "zerolinecolor": "white"
           },
           "zaxis": {
            "backgroundcolor": "#E5ECF6",
            "gridcolor": "white",
            "gridwidth": 2,
            "linecolor": "white",
            "showbackground": true,
            "ticks": "",
            "zerolinecolor": "white"
           }
          },
          "shapedefaults": {
           "line": {
            "color": "#2a3f5f"
           }
          },
          "ternary": {
           "aaxis": {
            "gridcolor": "white",
            "linecolor": "white",
            "ticks": ""
           },
           "baxis": {
            "gridcolor": "white",
            "linecolor": "white",
            "ticks": ""
           },
           "bgcolor": "#E5ECF6",
           "caxis": {
            "gridcolor": "white",
            "linecolor": "white",
            "ticks": ""
           }
          },
          "title": {
           "x": 0.05
          },
          "xaxis": {
           "automargin": true,
           "gridcolor": "white",
           "linecolor": "white",
           "ticks": "",
           "title": {
            "standoff": 15
           },
           "zerolinecolor": "white",
           "zerolinewidth": 2
          },
          "yaxis": {
           "automargin": true,
           "gridcolor": "white",
           "linecolor": "white",
           "ticks": "",
           "title": {
            "standoff": 15
           },
           "zerolinecolor": "white",
           "zerolinewidth": 2
          }
         }
        },
        "title": {
         "text": "Average Salary by Gender and Salary Band"
        },
        "xaxis": {
         "anchor": "y",
         "domain": [
          0,
          1
         ],
         "title": {
          "text": "salary_bands"
         }
        },
        "yaxis": {
         "anchor": "x",
         "domain": [
          0,
          1
         ],
         "title": {
          "text": "Average Salary"
         }
        }
       }
      }
     },
     "metadata": {},
     "output_type": "display_data"
    }
   ],
   "source": [
    "fig = px.bar(avg_bands, x='salary_bands', y='avg_salary', color='gender',\n",
    "             title='Average Salary by Gender and Salary Band',\n",
    "             labels={'avg_salary': 'Average Salary'},barmode='group')\n",
    "\n",
    "\n",
    "for i, row in average_salary.iterrows():\n",
    "    fig.add_trace(go.Scatter(\n",
    "        x=[row['salary_bands']],\n",
    "        y=[row['annual_salary']],\n",
    "        text=[str(row['employee_id'])],\n",
    "        mode='text',\n",
    "        showlegend=False,\n",
    "        textposition='top left'\n",
    "    ))\n",
    "    \n",
    "fig.show()"
   ]
  },
  {
   "cell_type": "code",
   "execution_count": 98,
   "metadata": {},
   "outputs": [
    {
     "data": {
      "text/plain": [
       "array(['Good', 'Needs Improvement', 'Underperformer', 'Exceptional'],\n",
       "      dtype=object)"
      ]
     },
     "execution_count": 98,
     "metadata": {},
     "output_type": "execute_result"
    }
   ],
   "source": [
    "df['performance'].unique()"
   ]
  },
  {
   "cell_type": "code",
   "execution_count": 101,
   "metadata": {},
   "outputs": [
    {
     "data": {
      "text/html": [
       "<div>\n",
       "<style scoped>\n",
       "    .dataframe tbody tr th:only-of-type {\n",
       "        vertical-align: middle;\n",
       "    }\n",
       "\n",
       "    .dataframe tbody tr th {\n",
       "        vertical-align: top;\n",
       "    }\n",
       "\n",
       "    .dataframe thead th {\n",
       "        text-align: right;\n",
       "    }\n",
       "</style>\n",
       "<table border=\"1\" class=\"dataframe\">\n",
       "  <thead>\n",
       "    <tr style=\"text-align: right;\">\n",
       "      <th></th>\n",
       "      <th>business_areas</th>\n",
       "      <th>performance</th>\n",
       "      <th>gender</th>\n",
       "      <th>annual_salary</th>\n",
       "      <th>employee_id</th>\n",
       "    </tr>\n",
       "  </thead>\n",
       "  <tbody>\n",
       "    <tr>\n",
       "      <th>0</th>\n",
       "      <td>HR</td>\n",
       "      <td>Exceptional</td>\n",
       "      <td>Female</td>\n",
       "      <td>87.981625</td>\n",
       "      <td>8</td>\n",
       "    </tr>\n",
       "    <tr>\n",
       "      <th>1</th>\n",
       "      <td>HR</td>\n",
       "      <td>Exceptional</td>\n",
       "      <td>Male</td>\n",
       "      <td>153.013400</td>\n",
       "      <td>5</td>\n",
       "    </tr>\n",
       "    <tr>\n",
       "      <th>2</th>\n",
       "      <td>HR</td>\n",
       "      <td>Good</td>\n",
       "      <td>Female</td>\n",
       "      <td>70.908909</td>\n",
       "      <td>22</td>\n",
       "    </tr>\n",
       "    <tr>\n",
       "      <th>3</th>\n",
       "      <td>HR</td>\n",
       "      <td>Good</td>\n",
       "      <td>Male</td>\n",
       "      <td>71.532778</td>\n",
       "      <td>9</td>\n",
       "    </tr>\n",
       "    <tr>\n",
       "      <th>4</th>\n",
       "      <td>HR</td>\n",
       "      <td>Needs Improvement</td>\n",
       "      <td>Female</td>\n",
       "      <td>36.502500</td>\n",
       "      <td>2</td>\n",
       "    </tr>\n",
       "  </tbody>\n",
       "</table>\n",
       "</div>"
      ],
      "text/plain": [
       "  business_areas        performance  gender  annual_salary  employee_id\n",
       "0             HR        Exceptional  Female      87.981625            8\n",
       "1             HR        Exceptional    Male     153.013400            5\n",
       "2             HR               Good  Female      70.908909           22\n",
       "3             HR               Good    Male      71.532778            9\n",
       "4             HR  Needs Improvement  Female      36.502500            2"
      ]
     },
     "execution_count": 101,
     "metadata": {},
     "output_type": "execute_result"
    }
   ],
   "source": [
    "avg_dept = df.groupby(['business_areas','performance','gender']).agg({'annual_salary':'mean','employee_id':'count'}).reset_index()\n",
    "avg_dept.head()"
   ]
  },
  {
   "cell_type": "code",
   "execution_count": 116,
   "metadata": {},
   "outputs": [
    {
     "data": {
      "image/png": "[encoded data removed]",
      "text/plain": [
       "<Figure size 1000x600 with 1 Axes>"
      ]
     },
     "metadata": {},
     "output_type": "display_data"
    }
   ],
   "source": [
    "sns.set(style=\"whitegrid\")\n",
    "plt.figure(figsize=(10, 6))\n",
    "\n",
    "# Create a box plot to visualize the gender pay gap\n",
    "sns.boxplot(x='performance', y=\"annual_salary\",hue='gender', data=avg_dept)\n",
    "\n",
    "plt.title('Gender Pay Gap Analysis')\n",
    "plt.xlabel('Gender')\n",
    "plt.ylabel('Annual Salary')\n",
    "plt.show()"
   ]
  },
  {
   "cell_type": "code",
   "execution_count": null,
   "metadata": {},
   "outputs": [],
   "source": []
  }
 ],
 "metadata": {
  "kernelspec": {
   "display_name": "base",
   "language": "python",
   "name": "python3"
  },
  "language_info": {
   "codemirror_mode": {
    "name": "ipython",
    "version": 3
   },
   "file_extension": ".py",
   "mimetype": "text/x-python",
   "name": "python",
   "nbconvert_exporter": "python",
   "pygments_lexer": "ipython3",
   "version": "3.11.5"
  }
 },
 "nbformat": 4,
 "nbformat_minor": 2
}
